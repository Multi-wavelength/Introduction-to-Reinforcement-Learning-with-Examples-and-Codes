{
 "cells": [
  {
   "cell_type": "code",
   "execution_count": null,
   "metadata": {},
   "outputs": [],
   "source": [
    "version = \"REPLACE_PACKAGE_VERSION\""
   ]
  },
  {
   "cell_type": "markdown",
   "metadata": {
    "nbgrader": {
     "grade": false,
     "grade_id": "problem_description",
     "locked": true,
     "schema_version": 3,
     "solution": false
    }
   },
   "source": [
    "# Reinforcement Learning\n",
    "\n",
    "\n",
    "## Assignment 1 Part 1: Knapsack Problem\n",
    "\n",
    "In this assignment, we will solve the 0-1 Knapsack problem using deterministic dynamic programming (DP).\n",
    "\n",
    "### 0-1 Knapsack Problem\n",
    "\n",
    "Given $n$ items, each with a weight $w_i > 0$ and a value $v_i$, $i=0,1,...,n-1$. Given a knapsack that has a limited weight capacity $W>0$, determine which items to include so that the total weight is less than or equal to the given limit $W$ and the total value is as large as possible. Assume that all weights $w_i, i=0,1,...,n-1$ and $W$ are integers. Note that $v_i\\in\\mathbb{R}, i=0,1,...,n-1$ are not necessarily integers.\n",
    "\n",
    "\n",
    "### Problem Formulation\n",
    "\n",
    "The 0-1 Knapsack problem can be formulated as a finite horizon deterministic DP problem:\n",
    "\n",
    "- *Stage $i$*: \n",
    "\n",
    "    We determine whether to include each item one by one. Let stage $i$ be the time when we decide whether to include item $i$ or not, $i=0,1,...,n-1$. Let stage $n$ be the final stage after all decisions.\n",
    "    \n",
    "\n",
    "- *State $s_i$*: \n",
    "\n",
    "    The remaining weight capacity of the knapsack at stage $i$. By assumption, $s_i$ is an integer between $0$ and $W$.\n",
    "    \n",
    "\n",
    "- *Action $a_i$*:\n",
    "\n",
    "    $a_i=1$: To include item $i$ in the knapsack;\n",
    "    \n",
    "    $a_i=0$: Not to include item $i$ in the knapsack.\n",
    "    \n",
    "    Note that if $w_i > s_i$, i.e., the weight of item $i$ is larger than the remaining weight capacity of the knapsack, then $a_i=0$.\n",
    "    \n",
    "\n",
    "- *Reward $r_i(s_i,a_i)$*: \n",
    "\n",
    "    $r_i(s_i,a_i)=v_i$ if $a_i=1$ and $w_i \\le s_i$;\n",
    "    \n",
    "    Otherwise, $r_i(s_i,a_i)=0$.\n",
    "    \n",
    "    \n",
    "- *State Transition function $f_i(s_i, a_i)$*:\n",
    "\n",
    "    \\begin{equation}\n",
    "    \\begin{aligned}\n",
    "        s_{i+1} = f_i(s_i, a_i) = \\begin{cases}\n",
    "                s_i - w_i, & a_i=1, w_i \\le s_i \\\\\n",
    "                s_i, & a_i=0\n",
    "                \\end{cases}\n",
    "    \\end{aligned}\n",
    "    \\end{equation}\n",
    "\n",
    "- *Goal*:\n",
    "\n",
    "    Maximize the total reward $\\sum_{i=0}^{n-1} r_i(s_i,a_i)$, i.e., the total value in the knapsack.\n",
    "\n",
    "\n",
    "### Value Function\n",
    "\n",
    "Let $V_i(s_i)$ denote the optimal value function for state $s_i$ at stage $i$, defined by\n",
    "$$\n",
    "V_i(s_i) = \\max_{a_i,...a_{n-1}} \\sum_{j=i}^{n-1} r_j(s_j, a_j)\n",
    "$$\n",
    "\n",
    "The optimal value function $V_i(s_i)$ can be interpreted as the largest total value we can obtain given remaining weight capacity $s_i$ and items $i,i+1,...,n-1$. Note that $V_{n}(s_{n}) = 0$ by definition.\n"
   ]
  },
  {
   "cell_type": "code",
   "execution_count": null,
   "metadata": {},
   "outputs": [],
   "source": [
    "# Import packages. Run this cell.\n",
    "\n",
    "import numpy as np\n"
   ]
  },
  {
   "cell_type": "markdown",
   "metadata": {
    "nbgrader": {
     "grade": false,
     "grade_id": "questions",
     "locked": true,
     "schema_version": 3,
     "solution": false
    }
   },
   "source": [
    "### Questions\n",
    "\n",
    "Our ultimate goal in this assignment is to find the optimal sequence of actions $a_0,a_1,...,a_{n-1}$ that maximize the total value obtained in the knapsack, i.e., to solve the following problem:\n",
    "$$\n",
    "\\mathop{\\mathrm{argmax}}_{a_0,...,a_{n-1}} \\sum_{i=0}^{n-1} r_i(s_i, a_i)\n",
    "$$\n",
    "\n",
    "Please answer the following questions."
   ]
  },
  {
   "cell_type": "markdown",
   "metadata": {
    "nbgrader": {
     "grade": false,
     "grade_id": "question_1",
     "locked": true,
     "schema_version": 3,
     "solution": false
    }
   },
   "source": [
    "**1.** Bellman Equation (2 pts) \n",
    "\n",
    "Please write down the Bellman equation for the optimal value function $V_i(s_i),~i=0,...,n-1$. (Do not leave $f_i(s_i,a_i)$ in your final answer.)\n",
    "\n",
    "**Note**: This question will be manually graded."
   ]
  },
  {
   "cell_type": "markdown",
   "metadata": {
    "nbgrader": {
     "grade": true,
     "grade_id": "question_1_markdown",
     "locked": false,
     "points": 0,
     "schema_version": 3,
     "solution": true
    }
   },
   "source": []
  },
  {
   "cell_type": "markdown",
   "metadata": {
    "nbgrader": {
     "grade": false,
     "grade_id": "question_2",
     "locked": true,
     "schema_version": 3,
     "solution": false
    }
   },
   "source": [
    "**2.** Backward Computation (3 pts) \n",
    "\n",
    "Calculate the optimal value function backward using the Bellman equation, i.e., compute the values of $V_{n}(s_{n}), V_{n-1}(s_{n-1}),...,V_0(s_0)$.\n",
    "\n",
    "Please complete the Python function `backward_cal` in the next cell. The inputs of the function are `n`, `W`, `weights`, `values`:\n",
    "\n",
    "   - `n`: the number of items, i.e., $n$.\n",
    " \n",
    "   - `W`: the weight limit of the knapsack, i.e., $W$.\n",
    "\n",
    "   - `weights`: the weights of the items. It is a numpy array with size $n$. `weights[i]` represents $w_i$.\n",
    "\n",
    "   - `values`: the values of the items. It is a numpy array with size $n$. The precision is up to 4 decimal places. `values[i]` represents $v_i$.\n",
    " \n",
    "The output `value_function` is the value function $V_i(s_i)$:\n",
    "\n",
    "   - `value_function`: a numpy array with shape `(n + 1, W + 1)`. The precision is up to 4 decimal places. `value_function[i, s_i]` represents $V_i(s_i)$.\n",
    "    \n",
    "    For example, `value_function[0, 1]` is the value of $V_{0}(1)$ given the inputs.\n"
   ]
  },
  {
   "cell_type": "code",
   "execution_count": null,
   "metadata": {
    "nbgrader": {
     "grade": false,
     "grade_id": "question_2_code",
     "locked": false,
     "schema_version": 3,
     "solution": true
    }
   },
   "outputs": [],
   "source": [
    "def backward_cal(n, W, weights, values):\n",
    "    \"\"\"\n",
    "    Calculate the optimal value function $V_{i}(s_i)$ using the Bellman equation\n",
    "    Args:\n",
    "        n: the number of items.\n",
    "        W: the weight limit of the knapsack.\n",
    "        weights: the weights of the items. It is a numpy array with size $n$. weights[i] represents $w_i$.\n",
    "        values: the values of the items. It is a numpy array with size $n$. values[i] represents $v_i$.\n",
    "    Returns:\n",
    "        value_function: a numpy array with shape (n + 1, W + 1). value_function[i, s_i] represents $V_i(s_i)$.\n",
    "    \"\"\"\n",
    "    value_function = np.zeros((n + 1, W + 1))\n",
    "    \n",
    "    ### BEGIN SOLUTION\n",
    "    for i in range(n, -1, -1):\n",
    "        for j in range(W + 1):\n",
    "            if i != n and j != 0:\n",
    "                if weights[i] <= j:\n",
    "                    value_function[i, j] = max(value_function[i + 1, j - weights[i]] + values[i], value_function[i + 1, j])\n",
    "                else:\n",
    "                    value_function[i, j] = value_function[i + 1, j]\n",
    "    ### END SOLUTION\n",
    "    \n",
    "    return value_function\n"
   ]
  },
  {
   "cell_type": "code",
   "execution_count": null,
   "metadata": {
    "nbgrader": {
     "grade": true,
     "grade_id": "question_2_sample_test",
     "locked": true,
     "points": 0,
     "schema_version": 3,
     "solution": false
    }
   },
   "outputs": [],
   "source": [
    "# Sample Test, checking the output of your function backward_cal\n",
    "\n",
    "# Sample input\n",
    "n = 3\n",
    "W = 3\n",
    "weights = np.array([2, 1, 3])\n",
    "values = np.array([8.0, 9.0, 10.0])\n",
    "\n",
    "# Sample output\n",
    "value_function = np.array([[ 0.0, 9.0, 9.0, 17.0],\n",
    "                           [ 0.0, 9.0, 9.0, 10.0],\n",
    "                           [ 0.0, 0.0, 0.0, 10.0],\n",
    "                           [ 0.0, 0.0, 0.0, 0.0]])\n",
    "\n",
    "# Sample test\n",
    "func_out = backward_cal(n, W, weights, values)\n",
    "for i in range(n + 1):\n",
    "    for j in range(W + 1):\n",
    "        assert round(func_out[i, j], 4) == round(value_function[i, j], 4), \"Question 2: The sample test failed.\"\n"
   ]
  },
  {
   "cell_type": "code",
   "execution_count": null,
   "metadata": {
    "nbgrader": {
     "grade": true,
     "grade_id": "question_2_test_1",
     "locked": true,
     "points": 1,
     "schema_version": 3,
     "solution": false
    }
   },
   "outputs": [],
   "source": [
    "# Hidden Test 1, checking the output of your function backward_cal\n",
    "### BEGIN HIDDEN TESTS\n",
    "# generate test samples\n",
    "n = 1\n",
    "W = 1\n",
    "weights = np.array([1])\n",
    "values = np.array([8.5])\n",
    "tr_v_func_secr = np.array([[ 0.0, 8.5],\n",
    "                           [ 0.0, 0.0]])\n",
    "\n",
    "student = backward_cal(n, W, weights, values)\n",
    "for i in range(n + 1):\n",
    "    for j in range(W + 1):\n",
    "        assert round(student[i, j], 4) == round(tr_v_func_secr[i, j], 4), \"Question 2, Test 1, the output value of your function backward_cal does not match expected.\"\n",
    "### END HIDDEN TESTS"
   ]
  },
  {
   "cell_type": "code",
   "execution_count": null,
   "metadata": {
    "nbgrader": {
     "grade": true,
     "grade_id": "question_2_test_2",
     "locked": true,
     "points": 1,
     "schema_version": 3,
     "solution": false
    }
   },
   "outputs": [],
   "source": [
    "# Hidden Test 2, checking the output of your function backward_cal\n",
    "### BEGIN HIDDEN TESTS\n",
    "# generate test samples\n",
    "n = 5\n",
    "W = 10\n",
    "weights = np.array([6, 1, 4, 4, 8])\n",
    "values = np.array([4.2365, 6.4589, 4.3759, 8.9177, 9.6366])\n",
    "tr_v_func_secr = np.array([[ 0.,      6.4589,  6.4589,  6.4589,  8.9177, 15.3766, 15.3766, 15.3766, 15.3766, 19.7525, 19.7525],\n",
    "                           [ 0.,      6.4589,  6.4589,  6.4589,  8.9177, 15.3766, 15.3766, 15.3766, 15.3766, 19.7525, 19.7525],\n",
    "                           [ 0.,      0.,      0.,      0.,      8.9177,  8.9177,  8.9177,  8.9177, 13.2936, 13.2936, 13.2936],\n",
    "                           [ 0.,      0.,      0.,      0.,      8.9177,  8.9177,  8.9177,  8.9177,  9.6366, 9.6366,  9.6366 ],\n",
    "                           [ 0.,      0.,      0.,      0.,      0.,      0.,      0.,      0.,      9.6366, 9.6366,  9.6366 ],\n",
    "                           [ 0.,      0.,      0.,      0.,      0.,      0.,      0.,      0.,      0.,     0.,      0.     ]])\n",
    "                \n",
    "student = backward_cal(n, W, weights, values)\n",
    "for i in range(n + 1):\n",
    "    for j in range(W + 1):\n",
    "        assert round(student[i, j], 4) == round(tr_v_func_secr[i, j], 4), \"Question 2, Test 2, the output value of your function backward_cal does not match expected.\"\n",
    "### END HIDDEN TESTS"
   ]
  },
  {
   "cell_type": "code",
   "execution_count": null,
   "metadata": {
    "nbgrader": {
     "grade": true,
     "grade_id": "question_2_test_3",
     "locked": true,
     "points": 1,
     "schema_version": 3,
     "solution": false
    }
   },
   "outputs": [],
   "source": [
    "# Hidden Test 3, checking the output of your function backward_cal\n",
    "### BEGIN HIDDEN TESTS\n",
    "# generate test samples\n",
    "np.random.seed(0)\n",
    "n = 500\n",
    "W = 100\n",
    "weights = np.random.randint(low=1, high=W+1, size=n)\n",
    "values = (np.random.rand(n) * 10).round(4)\n",
    "tr_v_func_secr = np.zeros((n + 1, W + 1))\n",
    "for i in range(n, -1, -1):\n",
    "    for j in range(W + 1):\n",
    "        if i != n and j != 0:\n",
    "            if weights[i] <= j:\n",
    "                tr_v_func_secr[i, j] = max(tr_v_func_secr[i + 1, j - weights[i]] + values[i], tr_v_func_secr[i + 1, j])\n",
    "            else:\n",
    "                tr_v_func_secr[i, j] = tr_v_func_secr[i + 1, j]\n",
    "\n",
    "student = backward_cal(n, W, weights, values)\n",
    "for i in range(n + 1):\n",
    "    for j in range(W + 1):\n",
    "        assert round(student[i, j], 4) == round(tr_v_func_secr[i, j], 4), \"Question 2, Test 3, the output value of your function backward_cal does not match expected.\"\n",
    "### END HIDDEN TESTS"
   ]
  },
  {
   "cell_type": "markdown",
   "metadata": {
    "nbgrader": {
     "grade": false,
     "grade_id": "question_3",
     "locked": true,
     "schema_version": 3,
     "solution": false
    }
   },
   "source": [
    "**3.** Find the Optimal Actions (2 pts)\n",
    "\n",
    "Assume that we have obtained the optimal value function $V_{i}(s_{i})$ for all $i$ and $s_i$. Then we can find the optimal sequence of actions $a_0,...,a_{n-1}$ forward.\n",
    " \n",
    "Please complete the Python function `find_optimal_actions` in the next cell.\n",
    "\n",
    "Inputs:\n",
    "   - `n`: the number of items, i.e., $n$.\n",
    " \n",
    "   - `W`: the weight limit of the knapsack, i.e., $W$.\n",
    "   \n",
    "   - `weights`: the weights of the items. It is a numpy array with size $n$. `weights[i]` represents $w_i$.\n",
    "\n",
    "   - `values`: the values of the items. It is a numpy array with size $n$. The precision is up to 4 decimal places. `values[i]` represents $v_i$.\n",
    "\n",
    "   - `value_function`: the optimal value function $V_{i}(s_{i})$. It is a numpy array with shape `(n + 1, W + 1)`. The precision is up to 4 decimal places. `value_function[i, s_i]` represents $V_i(s_i)$. For example, `value_function[0, 1]` is the value of $V_{0}(1)$.\n",
    "\n",
    "Output:\n",
    "   - `opt_actions`: the optimal actions $a_0, a_1,...,a_{n-1}$. It is a numpy array with size $n$. `opt_actions[i]` represents $a_i$. For example, `opt_actions[0]=1` means that we determine to include item $0$ in the knapsack.\n"
   ]
  },
  {
   "cell_type": "code",
   "execution_count": null,
   "metadata": {
    "nbgrader": {
     "grade": false,
     "grade_id": "question_3_code",
     "locked": false,
     "schema_version": 3,
     "solution": true
    }
   },
   "outputs": [],
   "source": [
    "def find_optimal_actions(n, W, weights, values, value_function):\n",
    "    \"\"\"\n",
    "    Find the optimal actions $a_0,...,a_{n-1}$ using the optimal value function.\n",
    "    Args:\n",
    "        n: the number of items, i.e., $n$.\n",
    "        W: the weight limit of the knapsack, i.e., $W$.\n",
    "        weights: the weights of the items. It is a numpy array with size $n$. weights[i] represents $w_i$.\n",
    "        values: the values of the items. It is a numpy array with size $n$. values[i] represents $v_i$.\n",
    "        value_function: optimal value function, a numpy array with shape (n + 1, W + 1). value_function[i, s_i] represents $V_i(s_i)$.\n",
    "    Returns:\n",
    "        opt_actions: the optimal actions, a numpy array with size n. opt_actions[i] represents $a_i$.\n",
    "    \"\"\"\n",
    "    opt_actions = np.zeros((n,), dtype=int)\n",
    "    ### BEGIN SOLUTION\n",
    "    s = W\n",
    "    for i in range(n):\n",
    "        if weights[i] > s:\n",
    "            opt_actions[i] = 0\n",
    "        else:\n",
    "            if value_function[i + 1, s] >= value_function[i + 1, s - weights[i]] + values[i]:\n",
    "                opt_actions[i] = 0\n",
    "            else:\n",
    "                opt_actions[i] = 1\n",
    "                s = s - weights[i]\n",
    "    ### END SOLUTION\n",
    "    \n",
    "    return opt_actions\n"
   ]
  },
  {
   "cell_type": "code",
   "execution_count": null,
   "metadata": {
    "nbgrader": {
     "grade": true,
     "grade_id": "question_3_sample_test",
     "locked": true,
     "points": 0,
     "schema_version": 3,
     "solution": false
    }
   },
   "outputs": [],
   "source": [
    "# Sample Test, checking the output of your function find_optimal_actions\n",
    "\n",
    "# Sample input\n",
    "n = 3\n",
    "W = 3\n",
    "weights = np.array([2, 1, 3])\n",
    "values = np.array([8.0, 9.0, 10.0])\n",
    "value_function = np.array([[ 0.0, 9.0, 9.0, 17.0],\n",
    "                           [ 0.0, 9.0, 9.0, 10.0],\n",
    "                           [ 0.0, 0.0, 0.0, 10.0],\n",
    "                           [ 0.0, 0.0, 0.0, 0.0]])\n",
    "\n",
    "# Sample output\n",
    "opt_actions = np.array([1, 1, 0])\n",
    "\n",
    "# Sample test\n",
    "func_out = find_optimal_actions(n, W, weights, values, value_function)\n",
    "for i in range(n):\n",
    "    assert round(func_out[i]) == round(opt_actions[i]), \"Question 3: The sample test failed.\"\n"
   ]
  },
  {
   "cell_type": "code",
   "execution_count": null,
   "metadata": {
    "nbgrader": {
     "grade": true,
     "grade_id": "question_3_test_1",
     "locked": true,
     "points": 1,
     "schema_version": 3,
     "solution": false
    }
   },
   "outputs": [],
   "source": [
    "# Hidden Test 1, checking the output of your function find_optimal_actions\n",
    "### BEGIN HIDDEN TESTS\n",
    "# generate test samples\n",
    "n = 5\n",
    "W = 10\n",
    "weights = np.array([7, 6, 6, 8, 4])\n",
    "values = np.array([4.0303, 7.4523, 5.2691, 4.8768, 0.0055])\n",
    "tr_v_func_secr = np.array([[0.0000, 0.0000, 0.0000, 0.0000, 0.0055, 0.0055, 7.4523, 7.4523, 7.4523, 7.4523, 7.4578],\n",
    "                           [0.0000, 0.0000, 0.0000, 0.0000, 0.0055, 0.0055, 7.4523, 7.4523, 7.4523, 7.4523, 7.4578],\n",
    "                           [0.0000, 0.0000, 0.0000, 0.0000, 0.0055, 0.0055, 5.2691, 5.2691, 5.2691, 5.2691, 5.2746],\n",
    "                           [0.0000, 0.0000, 0.0000, 0.0000, 0.0055, 0.0055, 0.0055, 0.0055, 4.8768, 4.8768, 4.8768],\n",
    "                           [0.0000, 0.0000, 0.0000, 0.0000, 0.0055, 0.0055, 0.0055, 0.0055, 0.0055, 0.0055, 0.0055],\n",
    "                           [0.0000, 0.0000, 0.0000, 0.0000, 0.0000, 0.0000, 0.0000, 0.0000, 0.0000, 0.0000, 0.0000]])\n",
    " \n",
    "opt_act_secr = np.array([0, 1, 0, 0, 1])\n",
    "student = find_optimal_actions(n, W, weights, values, tr_v_func_secr)\n",
    "for i in range(n):\n",
    "    assert round(student[i]) == round(opt_act_secr[i]), \"Question 3, Test 1, the output value of your function find_optimal_actions does not match expected.\"\n",
    "### END HIDDEN TESTS"
   ]
  },
  {
   "cell_type": "code",
   "execution_count": null,
   "metadata": {
    "nbgrader": {
     "grade": true,
     "grade_id": "question_3_test_2",
     "locked": true,
     "points": 1,
     "schema_version": 3,
     "solution": false
    }
   },
   "outputs": [],
   "source": [
    "# Hidden Test 2, checking the output of your function find_optimal_actions\n",
    "### BEGIN HIDDEN TESTS\n",
    "# generate test samples\n",
    "np.random.seed(0)\n",
    "n = 500\n",
    "W = 100\n",
    "weights = np.random.randint(low=1, high=W+1, size=n)\n",
    "values = (np.random.rand(n) * 10).round(4)\n",
    "tr_v_func_secr = np.zeros((n + 1, W + 1))\n",
    "for i in range(n, -1, -1):\n",
    "    for j in range(W + 1):\n",
    "        if i != n and j != 0:\n",
    "            if weights[i] <= j:\n",
    "                tr_v_func_secr[i, j] = max(tr_v_func_secr[i + 1, j - weights[i]] + values[i], tr_v_func_secr[i + 1, j])\n",
    "            else:\n",
    "                tr_v_func_secr[i, j] = tr_v_func_secr[i + 1, j]\n",
    "\n",
    "student = find_optimal_actions(n, W, weights, values, tr_v_func_secr.round(4))\n",
    "sum_weights = 0\n",
    "sum_values = 0.0\n",
    "for i in range(n):\n",
    "    if student[i] == 1:\n",
    "        sum_weights = sum_weights + weights[i]\n",
    "        sum_values = sum_values + values[i]\n",
    "        \n",
    "assert (sum_weights <= W) and (round(sum_values, 4) == round(tr_v_func_secr[0, W], 4)), \"Question 3, Test 2, the output value of your function find_optimal_actions does not match expected.\"\n",
    "### END HIDDEN TESTS"
   ]
  }
 ],
 "metadata": {
  "celltoolbar": "Create Assignment",
  "kernelspec": {
   "display_name": "Python 3 (ipykernel)",
   "language": "python",
   "name": "python3"
  },
  "language_info": {
   "codemirror_mode": {
    "name": "ipython",
    "version": 3
   },
   "file_extension": ".py",
   "mimetype": "text/x-python",
   "name": "python",
   "nbconvert_exporter": "python",
   "pygments_lexer": "ipython3",
   "version": "3.7.10"
  }
 },
 "nbformat": 4,
 "nbformat_minor": 1
}
