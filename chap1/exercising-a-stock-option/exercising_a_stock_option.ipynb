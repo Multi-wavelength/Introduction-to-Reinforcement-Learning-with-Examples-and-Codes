{
  "nbformat": 4,
  "nbformat_minor": 0,
  "metadata": {
    "colab": {
      "provenance": [],
      "collapsed_sections": []
    },
    "kernelspec": {
      "name": "python3",
      "display_name": "Python 3"
    },
    "language_info": {
      "name": "python"
    }
  },
  "cells": [
    {
      "cell_type": "markdown",
      "source": [
        "# Chapter 1 Dynamic Programming and Bellman Equations\n",
        "\n",
        "## Example: Exercising a Stock Option\n",
        "\n",
        "In this example, we will solve the following stock option problem using stochastic dynamic programming (DP).\n",
        "\n",
        "### Exercising a Stock Option\n",
        "\n",
        "You have a call option, which gives you the option to buy a share at the \"striking price\" $p$ (a positive integer) before the option expires.  You have up to $N$ days to exercise it. If you exercise the option on day $k$ when the stock price is $x_k,$ you can immediately make a profit of $x_k-p.$ If you do not exercise it on the last day, the option expires and has no value. Suppose\n",
        "the price of a share of the stock is an integer and obeys the equation $x_{k+1}=x_k+w_k,$ where $\\{w_k\\}$ are i.i.d. random variables uniformly distributed in $\\{-1, 0, 1\\}$. Given an initial stock price $x_0$, the aim is to exercise the option optimally to maximize the expected profit.\n",
        "\n",
        "### Problem Formulation\n",
        "\n",
        "This problem can be formulated into a finite-horizon stochastic DP problem as follows:\n",
        "\n",
        "- Stage $k$: Day $k$, $k\\in\\{0,\\ldots,N-1\\}$; stage $N$ is the time after the last day.\n",
        "    \n",
        "- State $x_k$: the price of the stock at Day $k$. Define a terminal state $g$ such that $x_k=g$ means that the option has already been exercised.\n",
        "    \n",
        "- Action: $u_k$:\n",
        "\n",
        "    If $x_k\\neq g$, then\n",
        "\n",
        "     - $u_k=1$: exercise the stock option;\n",
        "     - $u_k=0$: do not exercise.\n",
        "\n",
        "  If $x_k=g$, then the only available action is $u_k=0$ because the stock option has already been exercised.\n",
        "    \n",
        "- Reward: $r(x_k,u_k)$: \n",
        "\n",
        "    \\begin{align*}\n",
        "        r(x_k,u_k)=\n",
        "        \\begin{cases}\n",
        "            x_k-p, & \\mbox{if $x_k\\neq g$ and $u_k=1$;}\\\\\n",
        "            0, & \\mbox{otherwise.}\n",
        "        \\end{cases}\n",
        "    \\end{align*}\n",
        "    \n",
        "- Transition: \n",
        "    For any $x\\neq g$,\n",
        "\n",
        "    \\begin{align*}\n",
        "        &\\Pr(x_{k+1}=x-1|x_k=x,u_k=0)\\\\\n",
        "        =&\\Pr(x_{k+1}=x|x_k=x,u_k=0)\\\\\n",
        "        =&\\Pr(x_{k+1}=x+1|x_k=x,u_k=0)=\\frac{1}{3},\n",
        "    \\end{align*}\n",
        "\n",
        "    and\n",
        "\n",
        "    \\begin{align*}\n",
        "        &\\Pr(x_{k+1}=g|x_k=g,u_k=0)=1,\\\\\n",
        "        &\\Pr(x_{k+1}=g|x_k=x,u_k=1)=1.\n",
        "    \\end{align*}\n",
        "\n",
        "- Goal: given $x_0,$ maximize the expected total reward:\n",
        "\n",
        "    \\begin{align*}\n",
        "        \\max_{\\mu_0,\\ldots,\\mu_{N-1}} \\mathbb{E}\\left[\\sum_{k=0}^{N-1}r_k(x_k,\\mu_k(x_k))| x_0\\right].\n",
        "    \\end{align*}\n",
        "\n",
        "### Value Function\n",
        "\n",
        "Let $V_k(x_k)$ denote the optimal value function for state $x_k$ at stage $k$, defined by\n",
        "\n",
        "\\begin{align*}\n",
        "    V_k(x_k)=\\max_{\\mu_k,\\ldots,\\mu_{N-1}} \\mathbb{E}\\left[\\sum_{l=k}^{N-1}r_l(x_{l},\\mu_l(x_l))\\right].\n",
        "\\end{align*}\n",
        "\n",
        "$V_k(x_k)$ is the optimal expected profit given the stock price $x_k$ and that there are still $N-k$ days (Day $k$, ..., Day $N-1$) to go. \n",
        "\n",
        "### Bellman Equation\n",
        "\n",
        "Based on the formulation, the Bellman equation can be written as\n",
        "\n",
        "\\begin{align*}\n",
        "    V_k(x_k)=&\\max\\left\\{x_k-p, \\mathbb{E}[V_{k+1}(x_{k+1})]\\right\\}\\nonumber\\\\\n",
        "    =&\\max\\left\\{x_k-p, \\frac{1}{3} V_{k+1}(x_k)+ \\frac{1}{3} V_{k+1}(x_k+1) + \\frac{1}{3} V_{k+1}(x_k-1)\\right\\},\n",
        "\\end{align*}\n",
        "\n",
        "for any $k=0,\\ldots,N-1$.\n",
        "\n",
        "We know $V_{N}(x)=0$ for any value of $x$ since the option expires. Also notice that given $x_0$, the values of $x_1,\\ldots,x_{N}$ are from $x_0-N$ to $x_0+N$. Using backward search, we can calculate the value function $V_k(x_k)$. The optimal policy can be obtained by a forward pass.\n"
      ],
      "metadata": {
        "id": "YLeK5SNBVkCH"
      }
    },
    {
      "cell_type": "markdown",
      "source": [
        "## Codes\n",
        "\n",
        "### Backward Search\n",
        "\n",
        "We will calculate the optimal value function backward using the Bellman equation, i.e., compute the values of $V_N(x_N), V_{N-1}(x_{N-1}),\\ldots,V_1(x_0)$.\n",
        "\n",
        "For the Python function backward_cal in the next cell, the inputs are `N`, `p`, `x_0`:\n",
        "\n",
        "- `N`: the number of days\n",
        "\n",
        "- `p`: the striking price\n",
        "\n",
        "- `x_0`: initial stock price at Day $0$\n",
        "\n",
        "The output `value_function`, a numpy array with shape `(N + 1, 2N + 1)`, is the value function.\n",
        "`value_function[k, m]` means the value function $V_{k}(x_0-N+m)$.\n",
        "For example, `value_function[4, 2]` is the value of $V_{4}(x_0-N+2)$.\n",
        "\n",
        "Note that given $x_0$, there are some values in the array `value_function` that are irrelevant to our decision. We will set all those values to be $-1$."
      ],
      "metadata": {
        "id": "qm_4iPmGXNjp"
      }
    },
    {
      "cell_type": "code",
      "execution_count": null,
      "metadata": {
        "id": "bPfGtMkWVKGJ"
      },
      "outputs": [],
      "source": [
        "# Import packages. Run this cell.\n",
        "\n",
        "import numpy as np"
      ]
    },
    {
      "cell_type": "code",
      "source": [
        "def backward_cal(N, p, x_0):\n",
        "    \"\"\"\n",
        "    Calculate the optimal value function $V_{k}(x_k)$ using the Bellman equation\n",
        "    Args:\n",
        "        N: the number of days\n",
        "        p: the striking price\n",
        "        x_0: initial stock price at Day $0$\n",
        "    Returns:\n",
        "        value_function: a numpy array with shape (N + 1, 2N + 1). value_function[k, m] means the value function $V_{k}(x_0-N+m)$.\n",
        "    \"\"\"\n",
        "    value_function = -1 * np.ones((N + 1, 2 * N + 1))\n",
        "\n",
        "    for m in range(2 * N + 1):\n",
        "        value_function[N, m] = 0\n",
        "\n",
        "    for k in range(N - 1, -1, -1):\n",
        "        for m in range(N - k, 2 * N - (N - k) + 1):\n",
        "            value_continue = 1 / 3 * (value_function[k + 1, m] + value_function[k + 1, m + 1] + value_function[k + 1, m - 1])\n",
        "            value_function[k, m] = max(x_0 - N + m - p, value_continue)\n",
        "\n",
        "    return value_function\n"
      ],
      "metadata": {
        "id": "Epg08feqcl5t"
      },
      "execution_count": null,
      "outputs": []
    },
    {
      "cell_type": "code",
      "source": [
        "# Sample Test, checking the output of the function backward_cal\n",
        "\n",
        "# Sample input\n",
        "N = 4\n",
        "p = 2\n",
        "x_0 = 3\n",
        "\n",
        "# Sample output\n",
        "value_function = np.array([[-1.0000, -1.0000, -1.0000, -1.0000,  1.1852, -1.0000, -1.0000, -1.0000, -1.0000],\n",
        "                           [-1.0000, -1.0000, -1.0000,  0.4444,  1.1111,  2.0000, -1.0000, -1.0000, -1.0000],\n",
        "                           [-1.0000, -1.0000,  0.0000,  0.3333,  1.0000,  2.0000,  3.0000, -1.0000, -1.0000],\n",
        "                           [-1.0000,  0.0000,  0.0000,  0.0000,  1.0000,  2.0000,  3.0000,  4.0000, -1.0000],\n",
        "                           [ 0.0000,  0.0000,  0.0000,  0.0000,  0.0000,  0.0000,  0.0000,  0.0000,  0.0000]])\n",
        "\n",
        "# Sample test\n",
        "func_out = backward_cal(N, p, x_0)\n",
        "for k in range(N + 1):\n",
        "    for m in range(2 * N - 1):\n",
        "        assert round(func_out[k, m], 4) == round(value_function[k, m], 4), \"The sample test failed.\""
      ],
      "metadata": {
        "id": "tVqUXGmkecbC"
      },
      "execution_count": null,
      "outputs": []
    },
    {
      "cell_type": "markdown",
      "source": [
        "### Find the Optimal Policy\n",
        "\n",
        "The following function `optimal_action` will output the optimal action `u_k` given the inputs:\n",
        "\n",
        "- `N`: the number of days\n",
        "- `p`: the striking price\n",
        "- `x_0`: initial stock price at Day $0$\n",
        "- `k`: Day $k$\n",
        "- `x_k`: stock price at Day $k$\n",
        "- `value_function`: the value function\n"
      ],
      "metadata": {
        "id": "RIiHC3skmMMx"
      }
    },
    {
      "cell_type": "code",
      "source": [
        "def optimal_action(N, p, x_0, k, x_k, value_function):\n",
        "    \"\"\"\n",
        "    Calculate the optimal action $u_k$ at stage $k$\n",
        "    Args:\n",
        "        N: the number of days\n",
        "        p: the striking price\n",
        "        x_0: initial stock price at Day $0$\n",
        "        k: Day $k$\n",
        "        x_k: stock price at Day $k$\n",
        "        value_function: the value function\n",
        "    Returns:\n",
        "        u_k: the optimal action, 1 means exercising the option, 0 means not exercising the option\n",
        "    \"\"\"\n",
        "    m = x_k - x_0 + N\n",
        "    value_continue = 1 / 3 * (value_function[k + 1, m] + value_function[k + 1, m + 1] + value_function[k + 1, m - 1])\n",
        "    if x_k - p >= value_continue:\n",
        "        u_k = 1\n",
        "    else:\n",
        "        u_k = 0\n",
        "    return u_k\n"
      ],
      "metadata": {
        "id": "GOmGGXrnmFCT"
      },
      "execution_count": null,
      "outputs": []
    },
    {
      "cell_type": "code",
      "source": [
        "# Sample Test, checking the output of the function optimal_action\n",
        "\n",
        "# Sample input\n",
        "N = 4\n",
        "p = 2\n",
        "x_0 = 3\n",
        "k = 1\n",
        "x_k = 3\n",
        "value_function = np.array([[-1.0000, -1.0000, -1.0000, -1.0000,  1.1852, -1.0000, -1.0000, -1.0000, -1.0000],\n",
        "                           [-1.0000, -1.0000, -1.0000,  0.4444,  1.1111,  2.0000, -1.0000, -1.0000, -1.0000],\n",
        "                           [-1.0000, -1.0000,  0.0000,  0.3333,  1.0000,  2.0000,  3.0000, -1.0000, -1.0000],\n",
        "                           [-1.0000,  0.0000,  0.0000,  0.0000,  1.0000,  2.0000,  3.0000,  4.0000, -1.0000],\n",
        "                           [ 0.0000,  0.0000,  0.0000,  0.0000,  0.0000,  0.0000,  0.0000,  0.0000,  0.0000]])\n",
        "\n",
        "# Sample output\n",
        "u_k = 0\n",
        "\n",
        "# Sample test\n",
        "func_out = optimal_action(N, p, x_0, k, x_k, value_function)\n",
        "assert func_out == u_k, \"The sample test failed.\"\n"
      ],
      "metadata": {
        "id": "JHQ76LXFqh-_"
      },
      "execution_count": null,
      "outputs": []
    }
  ]
}