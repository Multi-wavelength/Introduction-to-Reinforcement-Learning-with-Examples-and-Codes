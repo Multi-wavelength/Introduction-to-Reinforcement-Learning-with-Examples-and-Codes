{
  "cells": [
    {
      "cell_type": "markdown",
      "metadata": {
        "nbgrader": {
          "grade": false,
          "grade_id": "problem_description",
          "locked": true,
          "schema_version": 3,
          "solution": false
        },
        "id": "srs4N1Le14YM"
      },
      "source": [
        "# Chapter 1 Dynamic Programming and Bellman Equations\n",
        "\n",
        "## Example: 0-1 Knapsack Problem\n",
        "\n",
        "In this example, we will solve the 0-1 knapsack problem using deterministic dynamic programming (DP).\n",
        "\n",
        "### 0-1 Knapsack Problem\n",
        "\n",
        "The 0-1 knapsack problem [1] can be described as follows.\n",
        "Given $n$ items, each with a weight $w_i > 0$ and a value $v_i$, $i=0,1,...,n-1$. Given a knapsack that has a limited weight capacity $W>0$, determine which items to include so that the total weight is less than or equal to the given limit $W$ and the total value is as large as possible. Assume that all weights $w_i, i=0,1,...,n-1$ and $W$ are integers. Note that $v_i\\in\\mathbb{R}, i=0,1,...,n-1$ are not necessarily integers.\n",
        "\n",
        "### Problem Formulation\n",
        "\n",
        "We can formulate the 0-1 knapsack problem into a finite-horizon deterministic DP problem as follows:\n",
        "\n",
        "- Stage $i$: the time when we make decision on item $i$.\n",
        "    \n",
        "    We determine whether to include each item one by one. Let stage $i$ be the time when we decide whether to include item $i$ or not, $i=0,1,...,n-1$. Let stage $n$ be the final stage after all decisions.\n",
        "    \n",
        "- State $s_i$: the remaining weight capacity of the knapsack at stage $i$.\n",
        "    \n",
        "    By assumption, $s_i$ is an integer between $0$ and $W$.\n",
        "    \n",
        "- Action $a_i$:\n",
        "\n",
        "    - $a_i=1$: to include item $i$ in the knapsack;\n",
        "    - $a_i=0$: not to include item $i$ in the knapsack.\n",
        "\n",
        "    Note that if $w_i > s_i$, i.e., the weight of item $i$ is larger than the remaining weight capacity of the knapsack, then $a_i=0$.\n",
        "    \n",
        "- Reward $r_i(s_i,a_i)$: \n",
        "    \n",
        "    $r_i(s_i,a_i)=v_i$ if $a_i=1$ and $w_i \\le s_i$;\n",
        "    otherwise, $r_i(s_i,a_i)=0$.\n",
        "    \n",
        "- State transition function $f_i(s_i, a_i)$: \n",
        "    \\begin{align*}\n",
        "        s_{i+1} = f_i(s_i, a_i) = \\begin{cases}\n",
        "                s_i - w_i, & a_i=1, w_i \\le s_i \\\\\n",
        "                s_i, & a_i=0.\n",
        "                \\end{cases}\n",
        "    \\end{align*}\n",
        "    \n",
        "- Goal: maximize the total reward $\\sum_{i=0}^{n-1} r_i(s_i,a_i)$, i.e., the total value in the knapsack, by finding the optimal sequence of actions $a_0,\\ldots.a_{n-1}$.\n",
        "\n",
        "### Value Function\n",
        "\n",
        "Let $V_i(s_i)$ denote the optimal value function for state $s_i$ at stage $i$, defined by\n",
        "$$\n",
        "V_i(s_i) = \\max_{a_i,...a_{n-1}} \\sum_{j=i}^{n-1} r_j(s_j, a_j).\n",
        "$$\n",
        "The optimal value function $V_i(s_i)$ can be interpreted as the largest total value we can obtain given remaining weight capacity $s_i$ and items $i,i+1,...,n-1$. Note that $V_{n}(s_{n}) = 0$ by definition. \n",
        "\n",
        "### Bellman Equation\n",
        "\n",
        "Next, we can write down the Bellman equation for this problem.\n",
        "Let\n",
        "\\begin{align*}\n",
        "    \\mathcal{A}_i = \\begin{cases}\n",
        "                        \\{1, 0\\} & s_i \\ge w_i \\\\\n",
        "                        \\{0\\} & s_i < w_i.\n",
        "                    \\end{cases}\n",
        "\\end{align*}\n",
        "For $i=0,1,...,n-1$, we have\n",
        "\\begin{align*}\n",
        "    V_i(s_i) = & \\max_{a_i\\in\\mathcal{A}_i}\\{r_i(s_i, a_i) + V_{i+1}(s_{i+1})\\}\\nonumber\\\\\n",
        "             = & \\begin{cases}\n",
        "                    \\max\\{v_i + V_{i+1}(s_i - w_i), V_{i+1}(s_i)\\} & s_i \\ge w_i \\\\\n",
        "                    V_{i+1}(s_i) & s_i < w_i.\n",
        "                \\end{cases}\n",
        "\\end{align*}\n",
        "Then we can recursively solve $V_i(\\cdot)$ using the Bellman equation.\n",
        "\n",
        "## Reference\n",
        "\n",
        "[1] Hans Kellerer, Ulrich Pferschy, and David Pisinger. Introduction. In Knapsack problems, pages 1–14. Springer, 2004.\n"
      ]
    },
    {
      "cell_type": "markdown",
      "metadata": {
        "nbgrader": {
          "grade": false,
          "grade_id": "question_2",
          "locked": true,
          "schema_version": 3,
          "solution": false
        },
        "id": "xTdhV9mX14YQ"
      },
      "source": [
        "## Codes\n",
        "\n",
        "### Backward Search\n",
        "\n",
        "We will calculate the optimal value function backward using the Bellman equation, i.e., compute the values of $V_{n}(s_{n}), V_{n-1}(s_{n-1}),...,V_0(s_0)$.\n",
        "\n",
        "For the Python function `backward_cal` in the next cell, the inputs are `n`, `W`, `weights`, `values`:\n",
        "\n",
        "   - `n`: the number of items, i.e., $n$.\n",
        " \n",
        "   - `W`: the weight limit of the knapsack, i.e., $W$.\n",
        "\n",
        "   - `weights`: the weights of the items. It is a numpy array with size $n$. `weights[i]` represents $w_i$.\n",
        "\n",
        "   - `values`: the values of the items. It is a numpy array with size $n$. The precision is up to 4 decimal places. `values[i]` represents $v_i$.\n",
        " \n",
        "The output `value_function` is the value function $V_i(s_i)$:\n",
        "\n",
        "   - `value_function`: a numpy array with shape `(n + 1, W + 1)`. The precision is up to 4 decimal places. `value_function[i, s_i]` represents $V_i(s_i)$.\n",
        "    \n",
        "    For example, `value_function[0, 1]` is the value of $V_{0}(1)$ given the inputs.\n"
      ]
    },
    {
      "cell_type": "code",
      "execution_count": 3,
      "metadata": {
        "id": "SChlgRSa14YO"
      },
      "outputs": [],
      "source": [
        "# Import packages. Run this cell.\n",
        "\n",
        "import numpy as np\n"
      ]
    },
    {
      "cell_type": "code",
      "execution_count": 4,
      "metadata": {
        "nbgrader": {
          "grade": false,
          "grade_id": "question_2_code",
          "locked": false,
          "schema_version": 3,
          "solution": true
        },
        "id": "jaBzpcY214YR"
      },
      "outputs": [],
      "source": [
        "def backward_cal(n, W, weights, values):\n",
        "    \"\"\"\n",
        "    Calculate the optimal value function $V_{i}(s_i)$ using the Bellman equation\n",
        "    Args:\n",
        "        n: the number of items.\n",
        "        W: the weight limit of the knapsack.\n",
        "        weights: the weights of the items. It is a numpy array with size $n$. weights[i] represents $w_i$.\n",
        "        values: the values of the items. It is a numpy array with size $n$. values[i] represents $v_i$.\n",
        "    Returns:\n",
        "        value_function: a numpy array with shape (n + 1, W + 1). value_function[i, s_i] represents $V_i(s_i)$.\n",
        "    \"\"\"\n",
        "    value_function = np.zeros((n + 1, W + 1))\n",
        "\n",
        "    for i in range(n, -1, -1):\n",
        "        for j in range(W + 1):\n",
        "            if i != n and j != 0:\n",
        "                if weights[i] <= j:\n",
        "                    value_function[i, j] = max(value_function[i + 1, j - weights[i]] + values[i], value_function[i + 1, j])\n",
        "                else:\n",
        "                    value_function[i, j] = value_function[i + 1, j]\n",
        "    \n",
        "    return value_function\n"
      ]
    },
    {
      "cell_type": "code",
      "execution_count": 5,
      "metadata": {
        "nbgrader": {
          "grade": true,
          "grade_id": "question_2_sample_test",
          "locked": true,
          "points": 0,
          "schema_version": 3,
          "solution": false
        },
        "id": "vMMYA1wu14YR"
      },
      "outputs": [],
      "source": [
        "# Sample Test, checking the output of the function backward_cal\n",
        "\n",
        "# Sample input\n",
        "n = 3\n",
        "W = 3\n",
        "weights = np.array([2, 1, 3])\n",
        "values = np.array([8.0, 9.0, 10.0])\n",
        "\n",
        "# Sample output\n",
        "value_function = np.array([[ 0.0, 9.0, 9.0, 17.0],\n",
        "                           [ 0.0, 9.0, 9.0, 10.0],\n",
        "                           [ 0.0, 0.0, 0.0, 10.0],\n",
        "                           [ 0.0, 0.0, 0.0, 0.0]])\n",
        "\n",
        "# Sample test\n",
        "func_out = backward_cal(n, W, weights, values)\n",
        "for i in range(n + 1):\n",
        "    for j in range(W + 1):\n",
        "        assert round(func_out[i, j], 4) == round(value_function[i, j], 4), \"The sample test failed.\"\n"
      ]
    },
    {
      "cell_type": "markdown",
      "metadata": {
        "nbgrader": {
          "grade": false,
          "grade_id": "question_3",
          "locked": true,
          "schema_version": 3,
          "solution": false
        },
        "id": "crEDQ_-R14YT"
      },
      "source": [
        "### Forward Search\n",
        "\n",
        "Assume that we have obtained the optimal value function $V_{i}(s_{i})$ for all $i$ and $s_i$. Then we can find the optimal sequence of actions $a_0,...,a_{n-1}$ forward.\n",
        " \n",
        "For the Python function `find_optimal_actions` in the next cell,\n",
        "\n",
        "Inputs:\n",
        "   - `n`: the number of items, i.e., $n$.\n",
        " \n",
        "   - `W`: the weight limit of the knapsack, i.e., $W$.\n",
        "   \n",
        "   - `weights`: the weights of the items. It is a numpy array with size $n$. `weights[i]` represents $w_i$.\n",
        "\n",
        "   - `values`: the values of the items. It is a numpy array with size $n$. The precision is up to 4 decimal places. `values[i]` represents $v_i$.\n",
        "\n",
        "   - `value_function`: the optimal value function $V_{i}(s_{i})$. It is a numpy array with shape `(n + 1, W + 1)`. The precision is up to 4 decimal places. `value_function[i, s_i]` represents $V_i(s_i)$. For example, `value_function[0, 1]` is the value of $V_{0}(1)$.\n",
        "\n",
        "Output:\n",
        "   - `opt_actions`: the optimal actions $a_0, a_1,...,a_{n-1}$. It is a numpy array with size $n$. `opt_actions[i]` represents $a_i$. For example, `opt_actions[0]=1` means that we determine to include item $0$ in the knapsack.\n"
      ]
    },
    {
      "cell_type": "code",
      "execution_count": 6,
      "metadata": {
        "nbgrader": {
          "grade": false,
          "grade_id": "question_3_code",
          "locked": false,
          "schema_version": 3,
          "solution": true
        },
        "id": "yHGGSWFX14YU"
      },
      "outputs": [],
      "source": [
        "def find_optimal_actions(n, W, weights, values, value_function):\n",
        "    \"\"\"\n",
        "    Find the optimal actions $a_0,...,a_{n-1}$ using the optimal value function.\n",
        "    Args:\n",
        "        n: the number of items, i.e., $n$.\n",
        "        W: the weight limit of the knapsack, i.e., $W$.\n",
        "        weights: the weights of the items. It is a numpy array with size $n$. weights[i] represents $w_i$.\n",
        "        values: the values of the items. It is a numpy array with size $n$. values[i] represents $v_i$.\n",
        "        value_function: optimal value function, a numpy array with shape (n + 1, W + 1). value_function[i, s_i] represents $V_i(s_i)$.\n",
        "    Returns:\n",
        "        opt_actions: the optimal actions, a numpy array with size n. opt_actions[i] represents $a_i$.\n",
        "    \"\"\"\n",
        "    opt_actions = np.zeros((n,), dtype=int)\n",
        "\n",
        "    s = W\n",
        "    for i in range(n):\n",
        "        if weights[i] > s:\n",
        "            opt_actions[i] = 0\n",
        "        else:\n",
        "            if value_function[i + 1, s] >= value_function[i + 1, s - weights[i]] + values[i]:\n",
        "                opt_actions[i] = 0\n",
        "            else:\n",
        "                opt_actions[i] = 1\n",
        "                s = s - weights[i]\n",
        "    \n",
        "    return opt_actions\n"
      ]
    },
    {
      "cell_type": "code",
      "execution_count": 7,
      "metadata": {
        "nbgrader": {
          "grade": true,
          "grade_id": "question_3_sample_test",
          "locked": true,
          "points": 0,
          "schema_version": 3,
          "solution": false
        },
        "id": "br9pJ6Pl14YU"
      },
      "outputs": [],
      "source": [
        "# Sample Test, checking the output of the function find_optimal_actions\n",
        "\n",
        "# Sample input\n",
        "n = 3\n",
        "W = 3\n",
        "weights = np.array([2, 1, 3])\n",
        "values = np.array([8.0, 9.0, 10.0])\n",
        "value_function = np.array([[ 0.0, 9.0, 9.0, 17.0],\n",
        "                           [ 0.0, 9.0, 9.0, 10.0],\n",
        "                           [ 0.0, 0.0, 0.0, 10.0],\n",
        "                           [ 0.0, 0.0, 0.0, 0.0]])\n",
        "\n",
        "# Sample output\n",
        "opt_actions = np.array([1, 1, 0])\n",
        "\n",
        "# Sample test\n",
        "func_out = find_optimal_actions(n, W, weights, values, value_function)\n",
        "for i in range(n):\n",
        "    assert round(func_out[i]) == round(opt_actions[i]), \"The sample test failed.\"\n"
      ]
    }
  ],
  "metadata": {
    "celltoolbar": "Create Assignment",
    "kernelspec": {
      "display_name": "Python 3 (ipykernel)",
      "language": "python",
      "name": "python3"
    },
    "language_info": {
      "codemirror_mode": {
        "name": "ipython",
        "version": 3
      },
      "file_extension": ".py",
      "mimetype": "text/x-python",
      "name": "python",
      "nbconvert_exporter": "python",
      "pygments_lexer": "ipython3",
      "version": "3.7.10"
    },
    "colab": {
      "provenance": []
    }
  },
  "nbformat": 4,
  "nbformat_minor": 0
}