{
  "cells": [
    {
      "cell_type": "markdown",
      "metadata": {
        "nbgrader": {
          "grade": false,
          "grade_id": "problem_description",
          "locked": true,
          "schema_version": 3,
          "solution": false
        },
        "id": "srs4N1Le14YM"
      },
      "source": [
        "# Chapter 1 Dynamic Programming and Bellman Equations\n",
        "\n",
        "## Example: 0-1 Knapsack Problem\n",
        "\n",
        "In this example, we will solve the 0-1 knapsack problem using deterministic dynamic programming (DP).\n",
        "\n",
        "### 0-1 Knapsack Problem\n",
        "\n",
        "The 0-1 knapsack problem [1] can be described as follows.\n",
        "Given $n$ items, each with a weight $w_k > 0$ and a value $v_k$, $k=0,1,...,n-1$. Given a knapsack that has a limited weight capacity $W>0$, determine which items to include so that the total weight is less than or equal to the given limit $W$ and the total value is as large as possible. Assume that all weights $w_k, k=0,1,...,n-1$ and $W$ are integers. Note that $v_k\\in\\mathbb{R}, k=0,1,...,n-1$ are not necessarily integers.\n",
        "\n",
        "### Problem Formulation\n",
        "\n",
        "We can formulate the 0-1 knapsack problem into a finite-horizon deterministic DP problem as follows:\n",
        "\n",
        "- Stage $k$: the time when we make decision on item $k$.\n",
        "    \n",
        "    We determine whether to include each item one by one. Let stage $k$ be the time when we decide whether to include item $k$ or not, $k=0,1,...,n-1$. Let stage $n$ be the final stage after all decisions.\n",
        "    \n",
        "- State $x_k$: the remaining weight capacity of the knapsack at stage $k$.\n",
        "    \n",
        "    By assumption, $x_k$ is an integer between $0$ and $W$.\n",
        "    \n",
        "- Action $u_k$:\n",
        "\n",
        "    - $u_k=1$: to include item $k$ in the knapsack;\n",
        "    - $u_k=0$: not to include item $k$ in the knapsack.\n",
        "\n",
        "    Note that if $w_k > x_k$, i.e., the weight of item $k$ is larger than the remaining weight capacity of the knapsack, then $u_k=0$.\n",
        "    \n",
        "- Reward $r_k(x_k,u_k)$: \n",
        "    \n",
        "    $r_k(x_k,u_k)=v_k$ if $u_k=1$ and $w_k \\le x_k$;\n",
        "    otherwise, $r_k(x_k,u_k)=0$.\n",
        "    \n",
        "- State transition function $f_k(x_k, u_k)$: \n",
        "    \\begin{align*}\n",
        "        x_{k+1} = f_k(x_k, u_k) = \\begin{cases}\n",
        "                x_k - w_k, & u_k=1, w_k \\le x_k \\\\\n",
        "                x_k, & u_k=0.\n",
        "                \\end{cases}\n",
        "    \\end{align*}\n",
        "    \n",
        "- Goal: maximize the total reward $\\sum_{k=0}^{n-1} r_k(x_k,u_k)$, i.e., the total value in the knapsack, by finding the optimal sequence of actions $u_0,\\ldots.u_{n-1}$.\n",
        "\n",
        "### Value Function\n",
        "\n",
        "Let $V_k(x_k)$ denote the optimal value function for state $x_k$ at stage $k$, defined by\n",
        "$$\n",
        "V_k(x_k) = \\max_{u_k,...u_{n-1}} \\sum_{j=k}^{n-1} r_j(x_j, u_j).\n",
        "$$\n",
        "The optimal value function $V_k(x_k)$ can be interpreted as the largest total value we can obtain given remaining weight capacity $x_k$ and items $k,k+1,...,n-1$. Note that $V_{n}(s_{n}) = 0$ by definition. \n",
        "\n",
        "### Bellman Equation\n",
        "\n",
        "Next, we can write down the Bellman equation for this problem.\n",
        "Let\n",
        "\\begin{align*}\n",
        "    \\mathcal{U}_k(x_k) = \\begin{cases}\n",
        "                        \\{1, 0\\} & x_k \\ge w_k \\\\\n",
        "                        \\{0\\} & x_k < w_k.\n",
        "                    \\end{cases}\n",
        "\\end{align*}\n",
        "For $k=0,1,...,n-1$, we have\n",
        "\\begin{align*}\n",
        "    V_k(x_k) = & \\max_{u_k\\in\\mathcal{U}_k(x_k)}\\{r_k(x_k, u_k) + V_{k+1}(x_{k+1})\\}\\nonumber\\\\\n",
        "             = & \\begin{cases}\n",
        "                    \\max\\{v_k + V_{k+1}(x_k - w_k), V_{k+1}(x_k)\\} & x_k \\ge w_k \\\\\n",
        "                    V_{k+1}(x_k) & x_k < w_k.\n",
        "                \\end{cases}\n",
        "\\end{align*}\n",
        "Then we can recursively solve $V_k(\\cdot)$ using the Bellman equation.\n",
        "\n",
        "## Reference\n",
        "\n",
        "[1] Hans Kellerer, Ulrich Pferschy, and David Pisinger. Introduction. In Knapsack problems, pages 1–14. Springer, 2004.\n"
      ]
    },
    {
      "cell_type": "markdown",
      "metadata": {
        "nbgrader": {
          "grade": false,
          "grade_id": "question_2",
          "locked": true,
          "schema_version": 3,
          "solution": false
        },
        "id": "xTdhV9mX14YQ"
      },
      "source": [
        "## Codes\n",
        "\n",
        "### Backward Search\n",
        "\n",
        "We will calculate the optimal value function backward using the Bellman equation, i.e., compute the values of $V_{n}(x_{n}), V_{n-1}(x_{n-1}),...,V_0(x_0)$.\n",
        "\n",
        "For the Python function `backward_cal` in the next cell, the inputs are `n`, `W`, `weights`, `values`:\n",
        "\n",
        "   - `n`: the number of items, i.e., $n$.\n",
        " \n",
        "   - `W`: the weight limit of the knapsack, i.e., $W$.\n",
        "\n",
        "   - `weights`: the weights of the items. It is a numpy array with size $n$. `weights[k]` represents $w_k$.\n",
        "\n",
        "   - `values`: the values of the items. It is a numpy array with size $n$. The precision is up to 4 decimal places. `values[k]` represents $v_k$.\n",
        " \n",
        "The output `value_function` is the value function $V_k(x_k)$:\n",
        "\n",
        "   - `value_function`: a numpy array with shape `(n + 1, W + 1)`. The precision is up to 4 decimal places. `value_function[k, x_k]` represents $V_k(x_k)$.\n",
        "    \n",
        "    For example, `value_function[0, 1]` is the value of $V_{0}(1)$ given the inputs.\n"
      ]
    },
    {
      "cell_type": "code",
      "execution_count": null,
      "metadata": {
        "id": "SChlgRSa14YO"
      },
      "outputs": [],
      "source": [
        "# Import packages. Run this cell.\n",
        "\n",
        "import numpy as np\n"
      ]
    },
    {
      "cell_type": "code",
      "execution_count": null,
      "metadata": {
        "nbgrader": {
          "grade": false,
          "grade_id": "question_2_code",
          "locked": false,
          "schema_version": 3,
          "solution": true
        },
        "id": "jaBzpcY214YR"
      },
      "outputs": [],
      "source": [
        "def backward_cal(n, W, weights, values):\n",
        "    \"\"\"\n",
        "    Calculate the optimal value function $V_{k}(x_k)$ using the Bellman equation\n",
        "    Args:\n",
        "        n: the number of items.\n",
        "        W: the weight limit of the knapsack.\n",
        "        weights: the weights of the items. It is a numpy array with size $n$. weights[k] represents $w_k$.\n",
        "        values: the values of the items. It is a numpy array with size $n$. values[k] represents $v_k$.\n",
        "    Returns:\n",
        "        value_function: a numpy array with shape (n + 1, W + 1). value_function[k, x_k] represents $V_k(x_k)$.\n",
        "    \"\"\"\n",
        "    value_function = np.zeros((n + 1, W + 1))\n",
        "\n",
        "    for k in range(n, -1, -1):\n",
        "        for x in range(W + 1):\n",
        "            if k != n and x != 0:\n",
        "                if weights[k] <= x:\n",
        "                    value_function[k, x] = max(value_function[k + 1, x - weights[k]] + values[k], value_function[k + 1, x])\n",
        "                else:\n",
        "                    value_function[k, x] = value_function[k + 1, x]\n",
        "    \n",
        "    return value_function\n"
      ]
    },
    {
      "cell_type": "code",
      "execution_count": null,
      "metadata": {
        "nbgrader": {
          "grade": true,
          "grade_id": "question_2_sample_test",
          "locked": true,
          "points": 0,
          "schema_version": 3,
          "solution": false
        },
        "id": "vMMYA1wu14YR"
      },
      "outputs": [],
      "source": [
        "# Sample Test, checking the output of the function backward_cal\n",
        "\n",
        "# Sample input\n",
        "n = 3\n",
        "W = 3\n",
        "weights = np.array([2, 1, 3])\n",
        "values = np.array([8.0, 9.0, 10.0])\n",
        "\n",
        "# Sample output\n",
        "value_function = np.array([[ 0.0, 9.0, 9.0, 17.0],\n",
        "                           [ 0.0, 9.0, 9.0, 10.0],\n",
        "                           [ 0.0, 0.0, 0.0, 10.0],\n",
        "                           [ 0.0, 0.0, 0.0, 0.0]])\n",
        "\n",
        "# Sample test\n",
        "func_out = backward_cal(n, W, weights, values)\n",
        "for k in range(n + 1):\n",
        "    for x in range(W + 1):\n",
        "        assert round(func_out[k, x], 4) == round(value_function[k, x], 4), \"The sample test failed.\"\n"
      ]
    },
    {
      "cell_type": "markdown",
      "metadata": {
        "nbgrader": {
          "grade": false,
          "grade_id": "question_3",
          "locked": true,
          "schema_version": 3,
          "solution": false
        },
        "id": "crEDQ_-R14YT"
      },
      "source": [
        "### Find the Optimal Sequence of Actions\n",
        "\n",
        "Assume that we have obtained the optimal value function $V_{k}(x_{k})$ for all $k$ and $x_k$. Then we can find the optimal sequence of actions $u_0,...,u_{n-1}$ forward.\n",
        " \n",
        "For the Python function `find_optimal_actions` in the next cell,\n",
        "\n",
        "Inputs:\n",
        "   - `n`: the number of items, i.e., $n$.\n",
        " \n",
        "   - `W`: the weight limit of the knapsack, i.e., $W$.\n",
        "   \n",
        "   - `weights`: the weights of the items. It is a numpy array with size $n$. `weights[k]` represents $w_k$.\n",
        "\n",
        "   - `values`: the values of the items. It is a numpy array with size $n$. The precision is up to 4 decimal places. `values[k]` represents $v_k$.\n",
        "\n",
        "   - `value_function`: the optimal value function $V_{k}(x_{k})$. It is a numpy array with shape `(n + 1, W + 1)`. The precision is up to 4 decimal places. `value_function[k, x_k]` represents $V_k(x_k)$. For example, `value_function[0, 1]` is the value of $V_{0}(1)$.\n",
        "\n",
        "Output:\n",
        "   - `opt_actions`: the optimal actions $u_0, u_1,...,u_{n-1}$. It is a numpy array with size $n$. `opt_actions[k]` represents $u_k$. For example, `opt_actions[0]=1` means that we determine to include item $0$ in the knapsack.\n"
      ]
    },
    {
      "cell_type": "code",
      "execution_count": null,
      "metadata": {
        "nbgrader": {
          "grade": false,
          "grade_id": "question_3_code",
          "locked": false,
          "schema_version": 3,
          "solution": true
        },
        "id": "yHGGSWFX14YU"
      },
      "outputs": [],
      "source": [
        "def find_optimal_actions(n, W, weights, values, value_function):\n",
        "    \"\"\"\n",
        "    Find the optimal actions $u_0,...,u_{n-1}$ using the optimal value function.\n",
        "    Args:\n",
        "        n: the number of items, i.e., $n$.\n",
        "        W: the weight limit of the knapsack, i.e., $W$.\n",
        "        weights: the weights of the items. It is a numpy array with size $n$. weights[k] represents $w_k$.\n",
        "        values: the values of the items. It is a numpy array with size $n$. values[k] represents $v_k$.\n",
        "        value_function: optimal value function, a numpy array with shape (n + 1, W + 1). value_function[k, x_k] represents $V_k(x_k)$.\n",
        "    Returns:\n",
        "        opt_actions: the optimal actions, a numpy array with size n. opt_actions[k] represents $u_k$.\n",
        "    \"\"\"\n",
        "    opt_actions = np.zeros((n,), dtype=int)\n",
        "\n",
        "    x = W\n",
        "    for k in range(n):\n",
        "        if weights[k] > x:\n",
        "            opt_actions[k] = 0\n",
        "        else:\n",
        "            if value_function[k + 1, x] >= value_function[k + 1, x - weights[k]] + values[k]:\n",
        "                opt_actions[k] = 0\n",
        "            else:\n",
        "                opt_actions[k] = 1\n",
        "                x = x - weights[k]\n",
        "    \n",
        "    return opt_actions\n"
      ]
    },
    {
      "cell_type": "code",
      "execution_count": null,
      "metadata": {
        "nbgrader": {
          "grade": true,
          "grade_id": "question_3_sample_test",
          "locked": true,
          "points": 0,
          "schema_version": 3,
          "solution": false
        },
        "id": "br9pJ6Pl14YU"
      },
      "outputs": [],
      "source": [
        "# Sample Test, checking the output of the function find_optimal_actions\n",
        "\n",
        "# Sample input\n",
        "n = 3\n",
        "W = 3\n",
        "weights = np.array([2, 1, 3])\n",
        "values = np.array([8.0, 9.0, 10.0])\n",
        "value_function = np.array([[ 0.0, 9.0, 9.0, 17.0],\n",
        "                           [ 0.0, 9.0, 9.0, 10.0],\n",
        "                           [ 0.0, 0.0, 0.0, 10.0],\n",
        "                           [ 0.0, 0.0, 0.0, 0.0]])\n",
        "\n",
        "# Sample output\n",
        "opt_actions = np.array([1, 1, 0])\n",
        "\n",
        "# Sample test\n",
        "func_out = find_optimal_actions(n, W, weights, values, value_function)\n",
        "for k in range(n):\n",
        "    assert round(func_out[k]) == round(opt_actions[k]), \"The sample test failed.\"\n"
      ]
    }
  ],
  "metadata": {
    "celltoolbar": "Create Assignment",
    "kernelspec": {
      "display_name": "Python 3 (ipykernel)",
      "language": "python",
      "name": "python3"
    },
    "language_info": {
      "codemirror_mode": {
        "name": "ipython",
        "version": 3
      },
      "file_extension": ".py",
      "mimetype": "text/x-python",
      "name": "python",
      "nbconvert_exporter": "python",
      "pygments_lexer": "ipython3",
      "version": "3.7.10"
    },
    "colab": {
      "provenance": [],
      "collapsed_sections": []
    }
  },
  "nbformat": 4,
  "nbformat_minor": 0
}