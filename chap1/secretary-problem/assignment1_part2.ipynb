{
 "cells": [
  {
   "cell_type": "code",
   "execution_count": null,
   "metadata": {},
   "outputs": [],
   "source": [
    "version = \"REPLACE_PACKAGE_VERSION\""
   ]
  },
  {
   "cell_type": "markdown",
   "metadata": {
    "nbgrader": {
     "grade": false,
     "grade_id": "problem_description",
     "locked": true,
     "schema_version": 3,
     "solution": false
    }
   },
   "source": [
    "# Reinforcement Learning\n",
    "\n",
    "\n",
    "## Assignment 1 Part 2: Secretary Problem\n",
    "\n",
    "In this assignment, we will solve the secretary problem using stochastic dynamic programming (DP).\n",
    "\n",
    "### Secretary Problem\n",
    "\n",
    "Imagine an administrator who wants to hire the best secretary out of $n$ candidates for a position. The candidates are interviewed one by one in random order. After interviewing the $h^{\\mathrm{th}}$ candidate, the administrator knows the ranking of the $h^{\\mathrm{th}}$ candidate among the candidates interviewed so far, but is unaware of the quality of unseen candidates. The administrator needs to determine whether to hire or reject the $h^{\\mathrm{th}}$ candidate immediately after the interview. Note that the administrator cannot go back to hire candidate $1,...,h-1$ after interviewing the $h^{\\mathrm{th}}$ candidate.\n",
    "\n",
    "### Assumption\n",
    "\n",
    "For each interview the administrator picks a candidate uniformly at random from the remaining candidates.\n",
    "\n",
    "### Problem Formulation\n",
    "\n",
    "This is a finite horizon stochastic problem, which can be formulated as the following stochastic DP:\n",
    "\n",
    "- *Goal*:\n",
    "\n",
    "    Maximize the probability of hiring the best candidate.\n",
    "\n",
    "\n",
    "- *Stage $h$*: \n",
    "\n",
    "    The stage after interviewing the $h^{\\mathrm{th}}$ candidate. $h\\in\\{1,...,n\\}$.\n",
    "\n",
    "\n",
    "- *State $s_h$*: \n",
    "\n",
    "    The ranking of the $h^{\\mathrm{th}}$ candidate among the candidates interviewed so far. $s_h\\in\\{1,...,h\\}$.\n",
    "\n",
    "\n",
    "- *Action $a_h$*: \n",
    "\n",
    "    $a_h=1$ means hiring the $h^{\\mathrm{th}}$ candidate;\n",
    "    $a_h=0$ means rejecting the $h^{\\mathrm{th}}$ candidate.\n",
    "\n",
    "\n",
    "- *Reward $r_h(s_h,a_h)$*: \n",
    "\n",
    "    $r_h=1$ if $a_h=1$ and the $h^{\\mathrm{th}}$ candidate is the best candidate among all the $n$ candidates. \n",
    "    Otherwise, $r_h=0$.\n",
    "\n",
    "Note that once the administrator decides to hire the candidate after the interview, the process will terminate and all the future rewards will be 0.\n",
    "\n",
    "### Value Function\n",
    "\n",
    "Let $V_h(s_h)$ denote the optimal value function for state $s_h$ at stage $h$, defined by\n",
    "$$\n",
    "V_h(s_h) = \\max_{\\mu} \\mathbb{E} \\left[\\sum_{k=h}^n r_k(s_k, \\mu_k(s_k))\\right]\n",
    "$$\n",
    "\n",
    "where $\\mu=(\\mu_k)$ is any sequence of state dependent policies.\n",
    "The optimal value function $V_h(s_h)$ can be interpreted as the probability that the best candidate will be hired under the optimal policy given $s_h$ at stage $h$. \n",
    "\n",
    "For example, let $n = 10$, $h = 5$, $s_5 = 1$. In this scenario, there are 10 candidates total. After interviewing the $5^{\\mathrm{th}}$ candidate, we know that this candidate ranks first among the 5 candidates that have been interviewed. If we follow the optimal policies from now on, the probability that we can successfully hire the best candidate is $V_5(1)$.\n"
   ]
  },
  {
   "cell_type": "code",
   "execution_count": null,
   "metadata": {},
   "outputs": [],
   "source": [
    "# Import packages. Run this cell.\n",
    "\n",
    "import numpy as np\n",
    "import matplotlib.pyplot as plt"
   ]
  },
  {
   "cell_type": "markdown",
   "metadata": {
    "nbgrader": {
     "grade": false,
     "grade_id": "questions",
     "locked": true,
     "schema_version": 3,
     "solution": false
    }
   },
   "source": [
    "### Questions\n",
    "\n",
    "Our ultimate goal in this assignment is to find the optimal sequence of policies that maximizes the probability of hiring the best candidate, i.e., we want to find the optimal sequence of policies $\\mu^*$ such that\n",
    "$$\n",
    "\\mu^* = \\mathop{\\mathrm{argmax}}_{\\mu} \\mathbb{E} \\left[\\sum_{h=1}^n r_h(s_h, \\mu_h(s_h))\\right]\n",
    "$$\n",
    "\n",
    "Please answer the following questions, which will guide you towards the goal step by step."
   ]
  },
  {
   "cell_type": "markdown",
   "metadata": {
    "nbgrader": {
     "grade": false,
     "grade_id": "question_1",
     "locked": true,
     "schema_version": 3,
     "solution": false
    }
   },
   "source": [
    "**1.** (2 pts) \n",
    "\n",
    "We start by calculating the optimal value function at the last stage $n$, i.e., the values of $V_n(s_n)$ for all $s_n\\in\\{1,...,n\\}$.\n",
    "\n",
    "Please complete the Python function `V_n` in the next cell. The inputs of the function are $n$ and $s_n$ with $s_n\\in\\{1,...,n\\}$. The output of the function is the value of $V_n(s_n)$ given the inputs $n$ and $s_n$. \n",
    "\n",
    "For example, if the inputs are 10 and 1, the output of the function should be the value of $V_{10}(1)$.\n"
   ]
  },
  {
   "cell_type": "code",
   "execution_count": null,
   "metadata": {
    "nbgrader": {
     "grade": false,
     "grade_id": "question_1_code",
     "locked": false,
     "schema_version": 3,
     "solution": true
    }
   },
   "outputs": [],
   "source": [
    "def V_n(n, s_n):\n",
    "    \"\"\"\n",
    "    Calculate the optimal value function $V_n(s_n)$\n",
    "    Args:\n",
    "        n: the total number of stages\n",
    "        s_n: the state at stage n\n",
    "    Returns:\n",
    "        v_n_s_n: the value of the optimal value function $V_n(s_n)$\n",
    "    \"\"\"\n",
    "    if s_n == 1:\n",
    "        ### BEGIN SOLUTION\n",
    "        v_n_s_n = 1\n",
    "        ### END SOLUTION\n",
    "    else:\n",
    "        ### BEGIN SOLUTION\n",
    "        v_n_s_n = 0\n",
    "        ### END SOLUTION\n",
    "    \n",
    "    # Make sure that the output type of your function is int or float\n",
    "    if not isinstance(v_n_s_n, (float, int)):\n",
    "        raise ValueError(\"The output type of your function should be int or float.\")\n",
    "    \n",
    "    return v_n_s_n\n"
   ]
  },
  {
   "cell_type": "code",
   "execution_count": null,
   "metadata": {
    "nbgrader": {
     "grade": true,
     "grade_id": "question_1_sample_test",
     "locked": true,
     "points": 0,
     "schema_version": 3,
     "solution": false
    }
   },
   "outputs": [],
   "source": [
    "# Sample Test, checking the output of your function V_n\n",
    "\n",
    "# Sample input\n",
    "n = 2\n",
    "s_n = 1\n",
    "\n",
    "# Sample output\n",
    "v_n_s_n = 1\n",
    "\n",
    "# Sample test\n",
    "func_out = V_n(n, s_n)\n",
    "assert round(func_out, 4) == round(v_n_s_n, 4), \"Question 1: The sample test failed.\"\n"
   ]
  },
  {
   "cell_type": "code",
   "execution_count": null,
   "metadata": {
    "nbgrader": {
     "grade": true,
     "grade_id": "question_1_test_c1",
     "locked": true,
     "points": 1,
     "schema_version": 3,
     "solution": false
    }
   },
   "outputs": [],
   "source": [
    "# Hidden Test 1, checking the output of your function V_n if s_n = 1\n",
    "### BEGIN HIDDEN TESTS\n",
    "for n in range(1, 11):\n",
    "    assert round(V_n(n, 1), 4) == 1.0000, \"Question 1, Test 1, the output value of your function V_n does not match expected.\"\n",
    "### END HIDDEN TESTS"
   ]
  },
  {
   "cell_type": "code",
   "execution_count": null,
   "metadata": {
    "nbgrader": {
     "grade": true,
     "grade_id": "question_1_test_c2",
     "locked": true,
     "points": 1,
     "schema_version": 3,
     "solution": false
    }
   },
   "outputs": [],
   "source": [
    "# Hidden Test 2, checking the output of your function V_n if s_n = 2,...,n\n",
    "### BEGIN HIDDEN TESTS\n",
    "for n in range(2, 11):\n",
    "    for s_n in range(2, n + 1):\n",
    "        assert round(V_n(n, s_n), 4) == 0.0000, \"Question 1, Test 2, the output value of your function V_n does not match expected.\"\n",
    "### END HIDDEN TESTS"
   ]
  },
  {
   "cell_type": "markdown",
   "metadata": {
    "nbgrader": {
     "grade": false,
     "grade_id": "question_2",
     "locked": true,
     "schema_version": 3,
     "solution": false
    }
   },
   "source": [
    "**2.** (2 pts) \n",
    "\n",
    "The Bellman equation for $h=1,...,n-1$ is as follows:\n",
    "\n",
    "\\begin{equation}\n",
    "    \\begin{aligned}\n",
    "    V_h(1) =& \\max \\biggl\\{\\mathbb{E}[r_h(1,1)], \\mathbb{E}[V_{h+1}(s_{h+1})]\\biggr\\} = \\max\\left\\{\\frac{h}{n},\\frac{1}{h+1}\\sum_{s=1}^{h+1}V_{h+1}(s)\\right\\}\\\\\n",
    "    V_h(s_{h}) =& \\max \\biggl\\{0, \\mathbb{E}[V_{h+1}(s_{h+1})]\\biggr\\} = \\frac{1}{h+1}\\sum_{s=1}^{h+1}V_{h+1}(s), s_h=2,...,h.\n",
    "    \\end{aligned}\n",
    "\\end{equation}\n",
    "\n",
    "For $V_h(1)$, the first term inside the maximum function, $\\mathbb{E}[r_h(1,1)]$, is the expected value given $a_h=1$, i.e., hiring the $h^{\\mathrm{th}}$ candidate. The total future reward is 0 since the process terminates. The second term $\\mathbb{E}[V_{h+1}(s_{h+1})]$ is the expected value given $a_h=0$, i.e., rejecting the $h^{\\mathrm{th}}$ candidate, since the current reward is 0. \n",
    "\n",
    "For $V_h(s_{h})$ where $s_h=2,...,h$, the expected value for hiring the $h^{\\mathrm{th}}$ candidate is 0 since the ranking of the $h^{\\mathrm{th}}$ candidate among all the $n$ candidates must be larger than or equal to 2. Similar to the case for $V_h(1)$, the expected value of rejecting the $h^{\\mathrm{th}}$ candidate is $\\mathbb{E}[V_{h+1}(s_{h+1})]$.\n",
    "\n",
    "Based on the results of $V_n(s_n)$ obtained in Question **1**, calculate $V_{n-1}(s_{n-1})$ for all $s_{n-1}\\in\\{1,...,n-1\\}$ using the above Bellman equation.\n",
    "\n",
    "Please complete the Python function `V_n_minus_1` in the next cell. The inputs of the function are $n$ and $s_{n-1}$ with $s_{n-1}\\in\\{1,...,n-1\\}$. The output of the function is the value of $V_{n-1}(s_{n-1})$ given the inputs $n$ and $s_{n-1}$.\n",
    "\n",
    "For example, if the inputs are 10 and 1, the output of the function should be the value of $V_{9}(1)$."
   ]
  },
  {
   "cell_type": "code",
   "execution_count": null,
   "metadata": {
    "nbgrader": {
     "grade": false,
     "grade_id": "question_2_code",
     "locked": false,
     "schema_version": 3,
     "solution": true
    }
   },
   "outputs": [],
   "source": [
    "def V_n_minus_1(n, s_n_minus_1):\n",
    "    \"\"\"\n",
    "    Calculate the optimal value function $V_{n-1}(s_{n-1})$ using the Bellman equation\n",
    "    Args:\n",
    "        n: the total number of stages\n",
    "        s_n_minus_1: the state s_{n-1} at stage n-1\n",
    "    Returns:\n",
    "        output: the value of the optimal value function $V_{n-1}(s_{n-1})$\n",
    "    \"\"\"\n",
    "    if s_n_minus_1 == 1:\n",
    "        ### BEGIN SOLUTION\n",
    "        output = max((n - 1) / n, 1 / n * 1)\n",
    "        ### END SOLUTION\n",
    "    else:\n",
    "        ### BEGIN SOLUTION\n",
    "        output = 1 / n * 1\n",
    "        ### END SOLUTION\n",
    "    \n",
    "    # Make sure that the output type of your function is int or float\n",
    "    if not isinstance(output, (float, int)):\n",
    "        raise ValueError(\"The output type of your function should be int or float.\")\n",
    "    \n",
    "    return output\n"
   ]
  },
  {
   "cell_type": "code",
   "execution_count": null,
   "metadata": {
    "nbgrader": {
     "grade": true,
     "grade_id": "question_2_sample_test",
     "locked": true,
     "points": 0,
     "schema_version": 3,
     "solution": false
    }
   },
   "outputs": [],
   "source": [
    "# Sample Test, checking the output of your function V_n_minus_1\n",
    "\n",
    "# Sample input\n",
    "n = 3\n",
    "s_n_minus_1 = 1\n",
    "\n",
    "# Sample output\n",
    "output = 2 / 3  # V_2(1)\n",
    "\n",
    "# Sample test\n",
    "func_out = V_n_minus_1(n, s_n_minus_1)\n",
    "assert func_out == output, \"Question 2: The sample test failed.\"\n"
   ]
  },
  {
   "cell_type": "code",
   "execution_count": null,
   "metadata": {
    "nbgrader": {
     "grade": true,
     "grade_id": "question_2_test_c1",
     "locked": true,
     "points": 1,
     "schema_version": 3,
     "solution": false
    }
   },
   "outputs": [],
   "source": [
    "# Hidden Test 1, checking the output of your function V_n_minus_1 if s_n_minus_1 = 1\n",
    "### BEGIN HIDDEN TESTS\n",
    "for n in range(2, 11):\n",
    "    assert V_n_minus_1(n, 1) == max((n - 1) / n, 1 / n * 1), \"Question 2, Test 1, the output value of your function V_n_minus_1 does not match expected.\"\n",
    "### END HIDDEN TESTS"
   ]
  },
  {
   "cell_type": "code",
   "execution_count": null,
   "metadata": {
    "nbgrader": {
     "grade": true,
     "grade_id": "question_2_test_c2",
     "locked": true,
     "points": 1,
     "schema_version": 3,
     "solution": false
    }
   },
   "outputs": [],
   "source": [
    "# Hidden Test 2, checking the output of your function V_n_minus_1 if s_n_minus_1 = 2,...,n-1\n",
    "### BEGIN HIDDEN TESTS\n",
    "for n in range(2, 11):\n",
    "    for s in range(2, n):\n",
    "        assert V_n_minus_1(n, s) == 1 / n * 1, \"Question 2, Test 2, the output value of your function V_n_minus_1 does not match expected.\"\n",
    "### END HIDDEN TESTS"
   ]
  },
  {
   "cell_type": "markdown",
   "metadata": {
    "nbgrader": {
     "grade": false,
     "grade_id": "question_3",
     "locked": true,
     "schema_version": 3,
     "solution": false
    }
   },
   "source": [
    "**3.** (4 pts)\n",
    "\n",
    "Then we can do backward computation based on the results obtained in Question **1** and the Bellman equation in Question **2**.\n",
    "\n",
    "Please complete the Python function `V_h` in the next cell. The inputs of the function are $n$, $h$, and $s_{h}$ with $s_{h}\\in\\{1,...,h\\}$. The output of the function is the value of $V_{h}(s_{h})$ given the inputs. \n",
    "\n",
    "For example, if the inputs are 10, 5, and 1, the output of the function should be the value of $V_{5}(1)$ assuming that the number of stages is 10.\n"
   ]
  },
  {
   "cell_type": "code",
   "execution_count": null,
   "metadata": {
    "nbgrader": {
     "grade": false,
     "grade_id": "question_3_code",
     "locked": false,
     "schema_version": 3,
     "solution": true
    }
   },
   "outputs": [],
   "source": [
    "def V_h(n, h, s_h):\n",
    "    \"\"\"\n",
    "    Calculate the optimal value function $V_h(s_h)$ using backward computation\n",
    "    Args:\n",
    "        n: the total number of stages\n",
    "        h: stage h\n",
    "        s_h: the state s_h at stage h\n",
    "    Returns:\n",
    "        v_h_s_h: the value of the optimal value function $V_h(s_h)$\n",
    "    \"\"\"\n",
    "    ### BEGIN SOLUTION\n",
    "    v_next_stage_1 = 1\n",
    "    v_next_stage_s = 0\n",
    "    stage = n - 1\n",
    "    while stage >= h:\n",
    "        v_stage_s = (v_next_stage_1 + v_next_stage_s * stage) / (stage + 1)\n",
    "        v_stage_1 = max(stage / n, v_stage_s)\n",
    "        v_next_stage_1 = v_stage_1\n",
    "        v_next_stage_s = v_stage_s\n",
    "        stage = stage - 1\n",
    "    if s_h == 1:\n",
    "        v_h_s_h = v_next_stage_1\n",
    "    else:\n",
    "        v_h_s_h = v_next_stage_s\n",
    "    ### END SOLUTION\n",
    "    \n",
    "    # Make sure that the output type of your function is int or float\n",
    "    if not isinstance(v_h_s_h, (float, int)):\n",
    "        raise ValueError(\"The output type of your function should be int or float.\")\n",
    "    \n",
    "    return v_h_s_h\n"
   ]
  },
  {
   "cell_type": "code",
   "execution_count": null,
   "metadata": {
    "nbgrader": {
     "grade": true,
     "grade_id": "question_3_sample_test",
     "locked": true,
     "points": 0,
     "schema_version": 3,
     "solution": false
    }
   },
   "outputs": [],
   "source": [
    "# Sample Test, checking the output of your function V_h\n",
    "\n",
    "# Sample input\n",
    "n = 3\n",
    "h = 1\n",
    "s_h = 1\n",
    "\n",
    "# Sample output\n",
    "v_h_s_h = 1 / 2  # V_1(1)\n",
    "\n",
    "# Sample test\n",
    "func_out = V_h(n, h, s_h)\n",
    "assert func_out == v_h_s_h, \"Question 3: The sample test failed.\"\n"
   ]
  },
  {
   "cell_type": "code",
   "execution_count": null,
   "metadata": {
    "nbgrader": {
     "grade": true,
     "grade_id": "question_3_test_c1",
     "locked": true,
     "points": 1,
     "schema_version": 3,
     "solution": false
    }
   },
   "outputs": [],
   "source": [
    "# Hidden Test 1, checking the output of your function V_h if s_h = 1, n = 10\n",
    "### BEGIN HIDDEN TESTS\n",
    "n = 10\n",
    "value_function = np.zeros((n, n))\n",
    "for h in range(1, n):\n",
    "    for s_h in range(1, h + 1):\n",
    "        for h_star in range(2, n):\n",
    "            left = sum([1 / i for i in range(h_star, n)])\n",
    "            right = left + 1 / (h_star - 1)\n",
    "            if left <= 1 and right > 1:\n",
    "                break\n",
    "        if h >= h_star:\n",
    "            if s_h == 1:\n",
    "                value_function[h - 1, s_h - 1] = max(h / n, h / n * sum([1 / i for i in range(h, n)]))\n",
    "            else:\n",
    "                value_function[h - 1, s_h - 1] = h / n * sum([1 / i for i in range(h, n)])\n",
    "        else:\n",
    "            value_function[h - 1, s_h - 1] = (h_star - 1) / n * sum([1 / i for i in range(h_star - 1, n)])\n",
    "value_function[n - 1, 0] = 1\n",
    "\n",
    "for h in range(1, n + 1):\n",
    "    assert round(V_h(n, h, 1), 4) == round(value_function[h - 1, 0], 4), \"Question 3, Test 1, the output value of your function V_h does not match expected.\"\n",
    "### END HIDDEN TESTS"
   ]
  },
  {
   "cell_type": "code",
   "execution_count": null,
   "metadata": {
    "nbgrader": {
     "grade": true,
     "grade_id": "question_3_test_c2",
     "locked": true,
     "points": 1,
     "schema_version": 3,
     "solution": false
    }
   },
   "outputs": [],
   "source": [
    "# Hidden Test 2, checking the output of your function V_h if s_h = 2,...,h, n = 10\n",
    "### BEGIN HIDDEN TESTS\n",
    "for h in range(1, n + 1):\n",
    "    for s_h in range(2, h + 1):\n",
    "        assert round(V_h(n, h, s_h), 4) == round(value_function[h - 1, s_h - 1], 4), \"Question 3, Test 2, the output value of your function V_h does not match expected.\"\n",
    "### END HIDDEN TESTS"
   ]
  },
  {
   "cell_type": "code",
   "execution_count": null,
   "metadata": {
    "nbgrader": {
     "grade": true,
     "grade_id": "question_3_test_c3",
     "locked": true,
     "points": 1,
     "schema_version": 3,
     "solution": false
    }
   },
   "outputs": [],
   "source": [
    "# Hidden Test 3, checking the output of your function V_h if s_h = 1, n = 20\n",
    "### BEGIN HIDDEN TESTS\n",
    "n = 20\n",
    "value_function = np.zeros((n, n))\n",
    "for h in range(1, n):\n",
    "    for s_h in range(1, h + 1):\n",
    "        for h_star in range(2, n):\n",
    "            left = sum([1 / i for i in range(h_star, n)])\n",
    "            right = left + 1 / (h_star - 1)\n",
    "            if left <= 1 and right > 1:\n",
    "                break\n",
    "        if h >= h_star:\n",
    "            if s_h == 1:\n",
    "                value_function[h - 1, s_h - 1] = max(h / n, h / n * sum([1 / i for i in range(h, n)]))\n",
    "            else:\n",
    "                value_function[h - 1, s_h - 1] = h / n * sum([1 / i for i in range(h, n)])\n",
    "        else:\n",
    "            value_function[h - 1, s_h - 1] = (h_star - 1) / n * sum([1 / i for i in range(h_star - 1, n)])\n",
    "value_function[n - 1, 0] = 1\n",
    "\n",
    "for h in range(1, n + 1):\n",
    "    assert round(V_h(n, h, 1), 4) == round(value_function[h - 1, 0], 4), \"Question 3, Test 3, the output value of your function V_h does not match expected.\"\n",
    "### END HIDDEN TESTS"
   ]
  },
  {
   "cell_type": "code",
   "execution_count": null,
   "metadata": {
    "nbgrader": {
     "grade": true,
     "grade_id": "question_3_test_c4",
     "locked": true,
     "points": 1,
     "schema_version": 3,
     "solution": false
    }
   },
   "outputs": [],
   "source": [
    "# Hidden Test 4, checking the output of your function V_h if s_h = 2,...,h, n = 20\n",
    "### BEGIN HIDDEN TESTS\n",
    "for h in range(1, n + 1):\n",
    "    for s_h in range(2, h + 1):\n",
    "        assert round(V_h(n, h, s_h), 4) == round(value_function[h - 1, s_h - 1], 4), \"Question 3, Test 4, the output value of your function V_h does not match expected.\"\n",
    "### END HIDDEN TESTS"
   ]
  },
  {
   "cell_type": "markdown",
   "metadata": {
    "nbgrader": {
     "grade": false,
     "grade_id": "question_4",
     "locked": true,
     "schema_version": 3,
     "solution": false
    }
   },
   "source": [
    "**4.** (1 pts)\n",
    "\n",
    "Consider $n\\ge 3$. Let $h^*$ be such that \n",
    "$\\frac{1}{h^*}+\\frac{1}{h^*+1}+...+\\frac{1}{n-1} \\le 1 < \\frac{1}{h^*-1}+\\frac{1}{h^*}+...+\\frac{1}{n-1}$.\n",
    "\n",
    "For example, if $n=10$, then $h^*=4$.\n",
    "\n",
    "Given $n$, $h$, and $s_h$, the value function $V_h(s_h)$ can also be calculated using the closed-form equations below.\n",
    "\n",
    "For all $h^*-1 \\le h \\le n-1$,\n",
    "\n",
    "\\begin{equation}\n",
    "    \\begin{aligned}\n",
    "        V_h(1) =& \\max\\left\\{\\frac{h}{n}, \\frac{h}{n}\\left(\\frac{1}{h}+\\frac{1}{h+1}+...+\\frac{1}{n-1}\\right)\\right\\}\\\\\n",
    "        V_h(s_h) =& \\frac{h}{n}\\left(\\frac{1}{h}+\\frac{1}{h+1}+...+\\frac{1}{n-1}\\right), s_h=2,...,h\n",
    "    \\end{aligned}\n",
    "\\end{equation}\n",
    "\n",
    "and for all $1 \\le h\\le h^*-1$,\n",
    "\n",
    "\\begin{align}\n",
    "    V_h(s_h) =& \\frac{h^*-1}{n}\\left(\\frac{1}{h^*-1}+\\frac{1}{h^*}+...+\\frac{1}{n-1}\\right), \\forall s_h=1,...,h.\n",
    "\\end{align}\n",
    "    \n",
    "We implemented this closed-form calculation as the Python function `V_h_closed_form`. To verify these closed-form equations, please select several sets of $n$, $h$, and $s_h$ as inputs and then compare the values of $V_h(s_h)$ obtained by the Python function `V_h` in Question **3** with those obtained by `V_h_closed_form`. Are they the same?\n",
    "\n",
    "**Note**: This question will be manually graded."
   ]
  },
  {
   "cell_type": "code",
   "execution_count": null,
   "metadata": {
    "nbgrader": {
     "grade": false,
     "grade_id": "question_4_code_readol",
     "locked": true,
     "schema_version": 3,
     "solution": false
    }
   },
   "outputs": [],
   "source": [
    "def V_h_closed_form(n, h, s_h):\n",
    "    \"\"\"\n",
    "    Calculate the optimal value function $V_h(s_h)$ using the closed-form equations\n",
    "    Args:\n",
    "        n: the total number of stages\n",
    "        h: stage h\n",
    "        s_h: the state s_h at stage h\n",
    "    Returns:\n",
    "        v_h_s_h: the value of the optimal value function $V_h(s_h)$\n",
    "    \"\"\"\n",
    "    if h == n:\n",
    "        if s_h == 1:\n",
    "            v_h_s_h = 1\n",
    "        else:\n",
    "            v_h_s_h = 0\n",
    "    else:\n",
    "        for h_star in range(2, n):\n",
    "            left = sum([1 / i for i in range(h_star, n)])\n",
    "            right = left + 1 / (h_star - 1)\n",
    "            if left <= 1 and right > 1:\n",
    "                break\n",
    "        if h >= h_star:\n",
    "            if s_h == 1:\n",
    "                v_h_s_h = max(h / n, h / n * sum([1 / i for i in range(h, n)]))\n",
    "            else:\n",
    "                v_h_s_h = h / n * sum([1 / i for i in range(h, n)])\n",
    "        else:\n",
    "            v_h_s_h = (h_star - 1) / n * sum([1 / i for i in range(h_star - 1, n)])\n",
    "    \n",
    "    return v_h_s_h"
   ]
  },
  {
   "cell_type": "code",
   "execution_count": null,
   "metadata": {
    "nbgrader": {
     "grade": true,
     "grade_id": "question_4_code",
     "locked": false,
     "points": 0,
     "schema_version": 3,
     "solution": true
    }
   },
   "outputs": [],
   "source": [
    "# You may use this space to compare the values. Please print the values out.\n",
    "### BEGIN SOLUTION\n",
    "n = 20  # any positive integer you like\n",
    "h = 9  # any integer between 1 and n\n",
    "s_h = 2  # any integer between 1 and h\n",
    "print(V_h(n, h, s_h), V_h_closed_form(n, h, s_h))\n",
    "n = 20  # any positive integer you like\n",
    "h = 11  # any integer between 1 and n\n",
    "s_h = 2  # any integer between 1 and h\n",
    "print(V_h(n, h, s_h), V_h_closed_form(n, h, s_h))\n",
    "n = 20  # any positive integer you like\n",
    "h = 11  # any integer between 1 and n\n",
    "s_h = 1  # any integer between 1 and h\n",
    "print(V_h(n, h, s_h), V_h_closed_form(n, h, s_h))\n",
    "### END SOLUTION"
   ]
  },
  {
   "cell_type": "markdown",
   "metadata": {
    "nbgrader": {
     "grade": false,
     "grade_id": "question_4_prompt",
     "locked": true,
     "schema_version": 3,
     "solution": false
    }
   },
   "source": [
    "Please give a short answer to the question in the next cell. (A yes/no will suffice.)"
   ]
  },
  {
   "cell_type": "markdown",
   "metadata": {
    "nbgrader": {
     "grade": true,
     "grade_id": "question_4_markdown",
     "locked": false,
     "points": 0,
     "schema_version": 3,
     "solution": true
    }
   },
   "source": []
  },
  {
   "cell_type": "markdown",
   "metadata": {
    "nbgrader": {
     "grade": false,
     "grade_id": "question_5",
     "locked": true,
     "schema_version": 3,
     "solution": false
    }
   },
   "source": [
    "**5.** (2 pts)\n",
    "\n",
    "Consider the following sequence of policies:\n",
    "\n",
    "At stage $h$, hire the candidate if\n",
    "\n",
    "- They are the best candidate so far ($s_h=1$), and\n",
    "- $\\frac{1}{h}+\\frac{1}{h+1}+...+\\frac{1}{n-1} \\le 1$, i.e., $h\\ge h^*$.\n",
    "    \n",
    "i.e., reject first $h^*-1$ candidates and hire the best candidate so far after that.\n",
    "\n",
    "Let $n=5$. Then $h^*=3$. Please use the closed-form expressions of the value function in Question **4** to verify that the above sequence of policies is optimal.\n",
    "\n",
    "**Hint**: Remember the backward-forward algorithm in the lecture. Now we have value functions, so we can find the optimal action forward by comparing the terms inside the maximum function in the Bellman equation in Question **2**.\n",
    "\n",
    "**Note**: This question will be manually graded."
   ]
  },
  {
   "cell_type": "code",
   "execution_count": null,
   "metadata": {
    "nbgrader": {
     "grade": true,
     "grade_id": "question_5_code",
     "locked": false,
     "points": 0,
     "schema_version": 3,
     "solution": true
    }
   },
   "outputs": [],
   "source": [
    "# You may use this space to do the calculation and comparison for each stage.\n",
    "### BEGIN SOLUTION\n",
    "n = 5\n",
    "for h in range(1, 6):\n",
    "    print(h / n, V_h_closed_form(n, h, h))\n",
    "### END SOLUTION"
   ]
  },
  {
   "cell_type": "markdown",
   "metadata": {
    "nbgrader": {
     "grade": false,
     "grade_id": "question_5_prompt",
     "locked": true,
     "schema_version": 3,
     "solution": false
    }
   },
   "source": [
    "Please provide reasoning for the optimality of the sequence of policies based on the results you obtained in the last cell."
   ]
  },
  {
   "cell_type": "markdown",
   "metadata": {
    "nbgrader": {
     "grade": true,
     "grade_id": "question_5_markdown",
     "locked": false,
     "points": 0,
     "schema_version": 3,
     "solution": true
    }
   },
   "source": []
  }
 ],
 "metadata": {
  "celltoolbar": "Create Assignment",
  "kernelspec": {
   "display_name": "Python 3 (ipykernel)",
   "language": "python",
   "name": "python3"
  },
  "language_info": {
   "codemirror_mode": {
    "name": "ipython",
    "version": 3
   },
   "file_extension": ".py",
   "mimetype": "text/x-python",
   "name": "python",
   "nbconvert_exporter": "python",
   "pygments_lexer": "ipython3",
   "version": "3.7.10"
  }
 },
 "nbformat": 4,
 "nbformat_minor": 1
}
