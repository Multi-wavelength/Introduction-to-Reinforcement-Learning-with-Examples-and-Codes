{
  "cells": [
    {
      "cell_type": "markdown",
      "metadata": {
        "nbgrader": {
          "grade": false,
          "grade_id": "problem_description",
          "locked": true,
          "schema_version": 3,
          "solution": false
        },
        "id": "-scxVrBr79BY"
      },
      "source": [
        "# Chapter 1 Dynamic Programming and Bellman Equations\n",
        "\n",
        "\n",
        "## Example: Secretary Problem\n",
        "\n",
        "In this example, we will solve the secretary problem using stochastic dynamic programming (DP).\n",
        "\n",
        "### Secretary Problem\n",
        "\n",
        "The secretary problem [1] can be described as follows. Imagine an administrator who wants to hire the best secretary out of $n$ available candidates. They are interviewed in succession in random order, that is, for each interview the administrator picks a candidate uniformly at random from the remaining candidates. After interviewing the $k^{\\mathrm{th}}$ candidate, the administrator knows the ranking of the $k^{\\mathrm{th}}$ candidate among the candidates interviewed so far, but is unaware of the quality of unseen candidates. The administrator needs to determine whether to hire or reject the $k^{\\mathrm{th}}$ candidate immediately after the interview. Note that the administrator cannot go back to hire candidate $1,\\ldots,k-1$ after interviewing the $k^{\\mathrm{th}}$ candidate. At most one candidate can be hired. The goal is to maximize the probability of hiring the best candidate.\n",
        "\n",
        "### Problem Formulation\n",
        "\n",
        "We can formulate the secretary problem into a finite-horizon stochastic DP problem as follows:\n",
        "\n",
        "- Stage $k$: the time when the administrator makes decision after interviewing the $k^{\\mathrm{th}}$ candidate. $k\\in\\{1,...,n\\}$.\n",
        "    \n",
        "- State $x_k$: the ranking of the $k^{\\mathrm{th}}$ candidate among the candidates interviewed so far. $x_k\\in\\{1,...,k\\}$.\n",
        "\n",
        "    Define a terminal state $g$ such that if the administrator has already hired one candidate in one of the previous interviews, then $x_{k}=g, x_{k+1}=g,\\ldots,x_{n}=g$. That is, once the administrator decides to hire a candidate, the process will go to the terminal state and remain in the terminal state.\n",
        "\n",
        "- Action $u_k$:\n",
        "    \n",
        "  If $x_k\\neq g$, then\n",
        "\n",
        "  - $u_k=1$ means hiring the $k^{\\mathrm{th}}$ candidate;\n",
        "  - $u_k=0$ means rejecting the $k^{\\mathrm{th}}$ candidate.\n",
        "\n",
        "  If $x_k=g$, then the only available action is $u_k=0$, meaning rejecting the $k^{\\mathrm{th}}$ candidate, because $x_k=g$ means that the administrator has already hired one candidate previously.\n",
        "    \n",
        "- Reward $r_k(x_k,u_k)$: \n",
        "    \n",
        "    $r_k(x_k,u_k)=1$ if $x_k\\neq g$, $u_k=1$ and the $k^{\\mathrm{th}}$ candidate is the best candidate among all the $n$ candidates. \n",
        "    \n",
        "    Otherwise, $r_k(x_k,u_k)=0$.\n",
        "    \n",
        "    Note that if $x_k\\neq 1$, $r_k(x_k,1)=0$ because $x_k\\neq 1$ means that the $k^{\\mathrm{th}}$ candidate is not the best among the $k$ candidates that have been interviewed and of course not the best among all candidates. If $x_k=1$, we can calculate the probability that the $k^{\\mathrm{th}}$ candidate is the best among all candidates as follows:\n",
        "\n",
        "    \\begin{align*}\n",
        "        \\Pr\\left(\\mbox{the $k^{\\mathrm{th}}$ candidate is the best among all candidates}|x_k=1\\right)=\\frac{{n-1 \\choose k-1} (k-1)!(n-k)!}{{n \\choose k} (k-1)!(n-k)!}=\\frac{k}{n}.\n",
        "    \\end{align*}\n",
        "\n",
        "    Therefore, $r_k(1,1)=1$ with probability $k/n$.\n",
        "    \n",
        "- Transition probabilities:\n",
        "    \n",
        "    For any $m\\in\\{1,\\ldots,k+1\\}$ and $j\\in\\{1,\\ldots,k\\}$, we have\n",
        "\n",
        "    \\begin{align*}\n",
        "        \\Pr(x_{k+1}=m|x_k=j,u_k=0)=\\frac{{n \\choose k+1} (k-1)!(n-k-1)!}{{n \\choose k+1} {k+1 \\choose k}(k-1)!(n-k-1)!}=\\frac{1}{k+1},\n",
        "    \\end{align*}\n",
        "\n",
        "    which means that $x_{k+1}$ will be uniformly distributed in $\\{1,\\ldots,k+1\\}$ if $x_k\\neq g$ and $u_k=0$. And for any $j\\in\\{1,\\ldots,k\\}$,\n",
        "\n",
        "    \\begin{align*}\n",
        "        &\\Pr(x_{k+1}=g|x_k=j,u_k=0)=0,\\\\\n",
        "        &\\Pr(x_{k+1}=g|x_k=j,u_k=1)=1,\\\\\n",
        "        &\\Pr(x_{k+1}=g|x_k=g,u_k=0)=1.\n",
        "    \\end{align*}\n",
        "    \n",
        "- Goal: maximize the probability of hiring the best candidate. Note that this goal can be written as \n",
        "    \\begin{align*}\n",
        "        \\max_{\\mu_1,\\ldots,\\mu_n} \\mathbb{E} \\left[\\sum_{k=1}^{n} r_k(x_k,\\mu_k(x_k))\\right].\n",
        "    \\end{align*}\n",
        "\n",
        "### Value Function\n",
        "\n",
        "Let $V_k(x_k)$ denote the optimal value function for state $x_k$ at stage $k$, defined by\n",
        "$$\n",
        "V_k(x_k) = \\max_{\\mu_k,\\ldots,\\mu_n} \\mathbb{E} \\left[\\sum_{j=k}^n r_j(x_j, \\mu_j(x_j))\\right].\n",
        "$$\n",
        "The optimal value function $V_k(x_k)$ can be interpreted as the probability that the best candidate will be hired under the optimal policy given $x_k$ at stage $k$. \n",
        "\n",
        "For example, let $n = 10$, $k = 5$, $x_5 = 1$. In this scenario, there are 10 candidates total. After interviewing the $5^{\\mathrm{th}}$ candidate, we know that this candidate ranks first among the 5 candidates that have been interviewed. Then $V_5(1)$ is the probability that we can successfully hire the best candidate if we follow the optimal policies at and after stage $5$.\n",
        "\n",
        "### Bellman Equation\n",
        "\n",
        "Based on the above definition and analysis, the Bellman equation for $k=1,...,n-1$ can be written as:\n",
        "\n",
        "\\begin{equation}\n",
        "    \\begin{aligned}\n",
        "        V_k(1) =& \\max \\left\\{\\mathbb{E}[r_k(1,1)], \\mathbb{E}[V_{k+1}(x_{k+1})]\\right\\} = \\max\\left\\{\\frac{k}{n},\\frac{1}{k+1}\\sum_{x=1}^{k+1}V_{k+1}(x)\\right\\}\\\\\n",
        "        V_k(x_{k}) =& \\max \\left\\{0, \\mathbb{E}[V_{k+1}(x_{k+1})]\\right\\} = \\frac{1}{k+1}\\sum_{x=1}^{k+1}V_{k+1}(x), x_k=2,...,k.\n",
        "    \\end{aligned}\n",
        "\\end{equation}\n",
        "\n",
        "For $V_k(1)$, the first term inside the maximum function, $\\mathbb{E}[r_k(1,1)]$, is the expected reward given $u_k=1$, i.e., hiring the $k^{\\mathrm{th}}$ candidate. The total future reward is 0 since the process terminates. The second term $\\mathbb{E}[V_{k+1}(x_{k+1})]$ is the expected value given $u_k=0$, i.e., rejecting the $k^{\\mathrm{th}}$ candidate, since the instantaneous reward is 0.\n",
        "\n",
        "For $V_k(x_{k})$ where $x_k=2,...,k$, the expected value for hiring the $k^{\\mathrm{th}}$ candidate is 0 since the ranking of the $k^{\\mathrm{th}}$ candidate among all the $n$ candidates must be larger than or equal to 2. Similar to the case for $V_k(1)$, the expected value of rejecting the $k^{\\mathrm{th}}$ candidate is $\\mathbb{E}[V_{k+1}(x_{k+1})]$.\n",
        "\n",
        "\n",
        "We start by calculating the optimal value function at the last stage $n$, i.e., the values of $V_n(x_n)$ for all $x_n\\in\\{1,...,n\\}$. $V_n(x_n)=1$ if $x_n=1$ and $V_n(x_n)=0$ otherwise because at stage $n$ we have interviewed all of the $n$ candidates and $x_n=1$ means that the last candidate is the best among $n$ candidates. Then we can calculate $V_k(x_k)$ for $k=n-1,\\ldots,1$ using backward search with the Bellman equation above. After obtaining the value function, we can determine the optimal policy by a forward pass.\n"
      ]
    },
    {
      "cell_type": "markdown",
      "metadata": {
        "nbgrader": {
          "grade": false,
          "grade_id": "question_3",
          "locked": true,
          "schema_version": 3,
          "solution": false
        },
        "id": "ygmGOVYD79Bg"
      },
      "source": [
        "## Codes\n",
        "\n",
        "### Backward Search\n",
        "\n",
        "We can do backward search based on the the Bellman equation and the values of $V_n(x_n)$.\n",
        "\n",
        "For the Python function `backward_cal` in the next cell, the input of the function is $n$. The output `value_function` is the value function $V_{k}(x_{k})$ for all $k\\in\\{1,\\ldots,n\\}$ and $x_k\\in\\{1,\\ldots,k\\}$. Note that we initialize the `value_function` such that its shape is $(n+1, n+1)$ and `value_function[k,x_k]` means the value function at stage $k$ and state $x_k$.\n"
      ]
    },
    {
      "cell_type": "code",
      "execution_count": null,
      "metadata": {
        "id": "HlSbnGbV79Bb"
      },
      "outputs": [],
      "source": [
        "# Import packages. Run this cell.\n",
        "\n",
        "import numpy as np\n",
        "import matplotlib.pyplot as plt"
      ]
    },
    {
      "cell_type": "code",
      "execution_count": null,
      "metadata": {
        "nbgrader": {
          "grade": false,
          "grade_id": "question_3_code",
          "locked": false,
          "schema_version": 3,
          "solution": true
        },
        "id": "IHjMRpKQ79Bg"
      },
      "outputs": [],
      "source": [
        "def backward_cal(n):\n",
        "    \"\"\"\n",
        "    Calculate the optimal value function $V_k(x_k)$ using backward seach\n",
        "    Args:\n",
        "        n: the total number of stages, n >= 2\n",
        "    Returns:\n",
        "        value_function: a numpy array with shape (n+1, n+1). value_function[k, x_k] represents $V_{k}(x_k)$.\n",
        "    \"\"\"\n",
        "    value_function = np.zeros((n + 1, n + 1))\n",
        "    value_function[n, 1] = 1\n",
        "    stage = n - 1\n",
        "    while stage >= 1:\n",
        "        for state in range(2, n + 1):\n",
        "            value_function[stage, state] = (value_function[stage + 1, 1] + value_function[stage + 1, 2] * stage) / (stage + 1)\n",
        "        value_function[stage, 1] = max(stage / n, value_function[stage, 2])\n",
        "        stage = stage - 1\n",
        "  \n",
        "    return value_function\n"
      ]
    },
    {
      "cell_type": "code",
      "execution_count": null,
      "metadata": {
        "nbgrader": {
          "grade": true,
          "grade_id": "question_3_sample_test",
          "locked": true,
          "points": 0,
          "schema_version": 3,
          "solution": false
        },
        "id": "kkxMt7Bf79Bh"
      },
      "outputs": [],
      "source": [
        "# Sample Test, checking the output of the function backward_cal\n",
        "\n",
        "# Sample input\n",
        "n = 3\n",
        "\n",
        "# Sample output\n",
        "value_function = np.array([[ 0.0, 0.0, 0.0, 0.0],\n",
        "                           [ 0.0, 1/2, 0.0, 0.0],\n",
        "                           [ 0.0, 2/3, 1/3, 0.0],\n",
        "                           [ 0.0, 1.0, 0.0, 0.0]])\n",
        "\n",
        "# Sample test\n",
        "func_out = backward_cal(n)\n",
        "for k in range(1, n + 1):\n",
        "    for x_k in range(1, k + 1):\n",
        "        assert round(func_out[k, x_k], 4) == round(value_function[k, x_k], 4), \"The sample test failed.\"\n"
      ]
    },
    {
      "cell_type": "markdown",
      "metadata": {
        "nbgrader": {
          "grade": false,
          "grade_id": "question_4",
          "locked": true,
          "schema_version": 3,
          "solution": false
        },
        "id": "52Zs_bGn79Bi"
      },
      "source": [
        "### Closed-Form Solution\n",
        "\n",
        "Consider $n\\ge 3$. Let $k^*$ be such that \n",
        "$\\frac{1}{k^*}+\\frac{1}{k^*+1}+...+\\frac{1}{n-1} \\le 1 < \\frac{1}{k^*-1}+\\frac{1}{k^*}+...+\\frac{1}{n-1}$.\n",
        "\n",
        "For example, if $n=10$, then $k^*=4$.\n",
        "\n",
        "Given $n$, $k$, and $x_k$, the value function $V_k(x_k)$ can also be calculated using the closed-form equations [1] below.\n",
        "\n",
        "For all $k^*-1 \\le k \\le n-1$,\n",
        "\n",
        "\\begin{equation}\n",
        "    \\begin{aligned}\n",
        "        V_k(1) =& \\max\\left\\{\\frac{k}{n}, \\frac{k}{n}\\left(\\frac{1}{k}+\\frac{1}{k+1}+...+\\frac{1}{n-1}\\right)\\right\\}\\\\\n",
        "        V_k(x_k) =& \\frac{k}{n}\\left(\\frac{1}{k}+\\frac{1}{k+1}+...+\\frac{1}{n-1}\\right), x_k=2,...,k,\n",
        "    \\end{aligned}\n",
        "\\end{equation}\n",
        "\n",
        "and for all $k$ such that $1 \\le k\\le k^*-1$,\n",
        "\n",
        "\\begin{align*}\n",
        "    V_k(x_k) =& \\frac{k^*-1}{n}\\left(\\frac{1}{k^*-1}+\\frac{1}{k^*}+...+\\frac{1}{n-1}\\right), \\forall x_k=1,...,k.\n",
        "\\end{align*}\n",
        "    \n",
        "We implemented this closed-form calculation as the Python function `V_k_closed_form`. We can verify these closed-form equations by choosing several sets of $n$, $k$, and $x_k$ as inputs and then compare the values of $V_k(x_k)$ obtained by the Python function `backward_cal` with those obtained by `V_k_closed_form`."
      ]
    },
    {
      "cell_type": "code",
      "execution_count": null,
      "metadata": {
        "nbgrader": {
          "grade": false,
          "grade_id": "question_4_code_readol",
          "locked": true,
          "schema_version": 3,
          "solution": false
        },
        "id": "xEKAfcrR79Bi"
      },
      "outputs": [],
      "source": [
        "def V_k_closed_form(n, k, x_k):\n",
        "    \"\"\"\n",
        "    Calculate the optimal value function $V_k(x_k)$ using the closed-form equations\n",
        "    Args:\n",
        "        n: the total number of stages\n",
        "        k: stage k\n",
        "        x_k: the state x_k at stage k\n",
        "    Returns:\n",
        "        v_k_x_k: the value of the optimal value function $V_k(x_k)$\n",
        "    \"\"\"\n",
        "    if k == n:\n",
        "        if x_k == 1:\n",
        "            v_k_x_k = 1\n",
        "        else:\n",
        "            v_k_x_k = 0\n",
        "    else:\n",
        "        for k_star in range(2, n):\n",
        "            left = sum([1 / i for i in range(k_star, n)])\n",
        "            right = left + 1 / (k_star - 1)\n",
        "            if left <= 1 and right > 1:\n",
        "                break\n",
        "        if k >= k_star:\n",
        "            if x_k == 1:\n",
        "                v_k_x_k = max(k / n, k / n * sum([1 / i for i in range(k, n)]))\n",
        "            else:\n",
        "                v_k_x_k = k / n * sum([1 / i for i in range(k, n)])\n",
        "        else:\n",
        "            v_k_x_k = (k_star - 1) / n * sum([1 / i for i in range(k_star - 1, n)])\n",
        "    \n",
        "    return v_k_x_k"
      ]
    },
    {
      "cell_type": "code",
      "execution_count": null,
      "metadata": {
        "nbgrader": {
          "grade": true,
          "grade_id": "question_4_code",
          "locked": false,
          "points": 0,
          "schema_version": 3,
          "solution": true
        },
        "id": "U2g4Ydew79Bj"
      },
      "outputs": [],
      "source": [
        "# Comparison\n",
        "n = 20  # any positive integer you like\n",
        "k = 9  # any integer between 1 and n\n",
        "x_k = 2  # any integer between 1 and h\n",
        "V_k = backward_cal(n)\n",
        "print(V_k[k, x_k], V_k_closed_form(n, k, x_k))\n",
        "k = 11  # any integer between 1 and n\n",
        "x_k = 2  # any integer between 1 and h\n",
        "print(V_k[k, x_k], V_k_closed_form(n, k, x_k))\n",
        "k = 11  # any integer between 1 and n\n",
        "x_k = 1  # any integer between 1 and h\n",
        "print(V_k[k, x_k], V_k_closed_form(n, k, x_k))"
      ]
    },
    {
      "cell_type": "markdown",
      "metadata": {
        "nbgrader": {
          "grade": false,
          "grade_id": "question_5",
          "locked": true,
          "schema_version": 3,
          "solution": false
        },
        "id": "LvNEI8cD79Bj"
      },
      "source": [
        "### Find the Optimal Policy\n",
        "\n",
        "The following function `optimal_action` will output the optimal action `u_k` given the inputs of the value function `value_function`, the number of stages `n`, stage `k` and state `x_k`."
      ]
    },
    {
      "cell_type": "code",
      "execution_count": null,
      "metadata": {
        "nbgrader": {
          "grade": true,
          "grade_id": "question_5_code",
          "locked": false,
          "points": 0,
          "schema_version": 3,
          "solution": true
        },
        "id": "raGKvDdR79Bj"
      },
      "outputs": [],
      "source": [
        "def optimal_action(value_function, n, k, x_k):\n",
        "    \"\"\"\n",
        "    Calculate the optimal action $u_k$ at stage $k$\n",
        "    Args:\n",
        "        value_function: a numpy array with shape (n+1, n+1). value_function[k, x_k] represents $V_{k}(x_k)$.\n",
        "        n: the total number of stages, n >= 2\n",
        "        k: stage k\n",
        "        x_k: the state x_k at stage k\n",
        "    Returns:\n",
        "        u_k: the optimal action, 1 means hiring the candidate, 0 means rejecting the candidate\n",
        "    \"\"\"\n",
        "    u_k = None\n",
        "    if k == n:\n",
        "        u_k = 1\n",
        "    else:\n",
        "        if x_k > 1:\n",
        "            u_k = 0\n",
        "        else:\n",
        "            if k/n > (value_function[k + 1, 1] + value_function[k + 1, 2] * k) / (k + 1):\n",
        "                u_k = 1\n",
        "            else:\n",
        "                u_k = 0\n",
        "    return u_k\n"
      ]
    },
    {
      "cell_type": "code",
      "source": [
        "# Sample Test, checking the output of the function optimal_action\n",
        "\n",
        "# Sample input\n",
        "n = 3\n",
        "value_function = np.array([[ 0.0, 0.0, 0.0, 0.0],\n",
        "                           [ 0.0, 1/2, 0.0, 0.0],\n",
        "                           [ 0.0, 2/3, 1/3, 0.0],\n",
        "                           [ 0.0, 1.0, 0.0, 0.0]])\n",
        "k = 1\n",
        "x_k = 1\n",
        "\n",
        "# Sample output\n",
        "u_k = 0\n",
        "\n",
        "# Sample test\n",
        "func_out = optimal_action(value_function, n, k, x_k)\n",
        "assert func_out == u_k, \"The sample test failed.\""
      ],
      "metadata": {
        "id": "Nr86lEpkkjJb"
      },
      "execution_count": null,
      "outputs": []
    },
    {
      "cell_type": "markdown",
      "source": [
        "### Optimal Policy in Closed-Form\n",
        "\n",
        "Using the closed-form solution of the value function and the Bellman equation, we can obtain the optimal policy, that is, at stage $k$, hire the candidate if\n",
        "\n",
        "- $k\\ge k^*$, and\n",
        "- they are the best candidate so far ($x_k=1$).\n",
        "\n",
        "In other words, we reject first $k^*-1$ candidates and hire the best candidate so far after that. For large $n$, $k^* \\approx \\frac{n}{e}$ [1]."
      ],
      "metadata": {
        "id": "mhCLBtGumMPI"
      }
    },
    {
      "cell_type": "markdown",
      "source": [
        "\n",
        "## Reference\n",
        "[1] MJ Beckmann. Dynamic programming and the secretary problem. Computers & Mathematics with Applications, 19(11):25–28, 1990."
      ],
      "metadata": {
        "id": "B_0i36zHolUC"
      }
    }
  ],
  "metadata": {
    "celltoolbar": "Create Assignment",
    "kernelspec": {
      "display_name": "Python 3 (ipykernel)",
      "language": "python",
      "name": "python3"
    },
    "language_info": {
      "codemirror_mode": {
        "name": "ipython",
        "version": 3
      },
      "file_extension": ".py",
      "mimetype": "text/x-python",
      "name": "python",
      "nbconvert_exporter": "python",
      "pygments_lexer": "ipython3",
      "version": "3.7.10"
    },
    "colab": {
      "provenance": [],
      "collapsed_sections": []
    }
  },
  "nbformat": 4,
  "nbformat_minor": 0
}